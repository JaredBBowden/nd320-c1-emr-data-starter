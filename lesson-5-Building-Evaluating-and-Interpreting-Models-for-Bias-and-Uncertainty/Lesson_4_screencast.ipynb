{
  "nbformat": 4,
  "nbformat_minor": 0,
  "metadata": {
    "kernelspec": {
      "display_name": "test_udacity_hc_env",
      "language": "python",
      "name": "test_udacity_hc_env"
    },
    "language_info": {
      "codemirror_mode": {
        "name": "ipython",
        "version": 3
      },
      "file_extension": ".py",
      "mimetype": "text/x-python",
      "name": "python",
      "nbconvert_exporter": "python",
      "pygments_lexer": "ipython3",
      "version": "3.7.6"
    },
    "colab": {
      "name": "Lesson_4_screencast.ipynb",
      "provenance": []
    },
    "accelerator": "GPU"
  },
  "cells": [
    {
      "cell_type": "markdown",
      "metadata": {
        "id": "DC_hfnc_LI28"
      },
      "source": [
        "## 1. Build Regression Model with TF DenseFeatures"
      ]
    },
    {
      "cell_type": "markdown",
      "metadata": {
        "id": "Yr3MIkBSLI3A"
      },
      "source": [
        "### Overview\n",
        "- Used preprocessed dataset from TF regression tutorial https://www.tensorflow.org/tutorials/keras/regression\n",
        "- Used TF feature column API and TF DenseFeatures instead of the methods used in tutorial"
      ]
    },
    {
      "cell_type": "markdown",
      "metadata": {
        "id": "Ei1FbhhlLI3B"
      },
      "source": [
        "### Dataset Preprocessing From Tutorial"
      ]
    },
    {
      "cell_type": "code",
      "metadata": {
        "id": "lK76caUPLI3B"
      },
      "source": [
        "import matplotlib.pyplot as plt\n",
        "import numpy as np\n",
        "import pandas as pd\n",
        "import seaborn as sns\n",
        "import tensorflow as tf"
      ],
      "execution_count": 1,
      "outputs": []
    },
    {
      "cell_type": "code",
      "metadata": {
        "colab": {
          "base_uri": "https://localhost:8080/"
        },
        "id": "glJNxOyHLI3B",
        "outputId": "3fc8b851-c297-4422-dbe6-797dd90e82ad"
      },
      "source": [
        "dataset_path = tf.keras.utils.get_file(\"auto-mpg.data\", \"http://archive.ics.uci.edu/ml/machine-learning-databases/auto-mpg/auto-mpg.data\")"
      ],
      "execution_count": 2,
      "outputs": [
        {
          "output_type": "stream",
          "text": [
            "Downloading data from http://archive.ics.uci.edu/ml/machine-learning-databases/auto-mpg/auto-mpg.data\n",
            "32768/30286 [================================] - 0s 1us/step\n"
          ],
          "name": "stdout"
        }
      ]
    },
    {
      "cell_type": "code",
      "metadata": {
        "colab": {
          "base_uri": "https://localhost:8080/",
          "height": 204
        },
        "id": "8DkS73DMLI3B",
        "outputId": "7003eba8-9b40-4544-ad90-7a709649024c"
      },
      "source": [
        "# Data is read in across different files\n",
        "column_names = ['MPG','Cylinders','Displacement','Horsepower','Weight',\n",
        "                'Acceleration', 'Model Year', 'Origin']\n",
        "raw_dataset = pd.read_csv(dataset_path, names=column_names,\n",
        "                      na_values = \"?\", comment='\\t',\n",
        "                      sep=\" \", skipinitialspace=True)\n",
        "raw_dataset.columns = ['MPG','Cylinders','Displacement','Horsepower','Weight',\n",
        "                'Acceleration', 'ModelYear', 'Origin']\n",
        "dataset = raw_dataset.copy()\n",
        "dataset.tail()"
      ],
      "execution_count": 3,
      "outputs": [
        {
          "output_type": "execute_result",
          "data": {
            "text/html": [
              "<div>\n",
              "<style scoped>\n",
              "    .dataframe tbody tr th:only-of-type {\n",
              "        vertical-align: middle;\n",
              "    }\n",
              "\n",
              "    .dataframe tbody tr th {\n",
              "        vertical-align: top;\n",
              "    }\n",
              "\n",
              "    .dataframe thead th {\n",
              "        text-align: right;\n",
              "    }\n",
              "</style>\n",
              "<table border=\"1\" class=\"dataframe\">\n",
              "  <thead>\n",
              "    <tr style=\"text-align: right;\">\n",
              "      <th></th>\n",
              "      <th>MPG</th>\n",
              "      <th>Cylinders</th>\n",
              "      <th>Displacement</th>\n",
              "      <th>Horsepower</th>\n",
              "      <th>Weight</th>\n",
              "      <th>Acceleration</th>\n",
              "      <th>ModelYear</th>\n",
              "      <th>Origin</th>\n",
              "    </tr>\n",
              "  </thead>\n",
              "  <tbody>\n",
              "    <tr>\n",
              "      <th>393</th>\n",
              "      <td>27.0</td>\n",
              "      <td>4</td>\n",
              "      <td>140.0</td>\n",
              "      <td>86.0</td>\n",
              "      <td>2790.0</td>\n",
              "      <td>15.6</td>\n",
              "      <td>82</td>\n",
              "      <td>1</td>\n",
              "    </tr>\n",
              "    <tr>\n",
              "      <th>394</th>\n",
              "      <td>44.0</td>\n",
              "      <td>4</td>\n",
              "      <td>97.0</td>\n",
              "      <td>52.0</td>\n",
              "      <td>2130.0</td>\n",
              "      <td>24.6</td>\n",
              "      <td>82</td>\n",
              "      <td>2</td>\n",
              "    </tr>\n",
              "    <tr>\n",
              "      <th>395</th>\n",
              "      <td>32.0</td>\n",
              "      <td>4</td>\n",
              "      <td>135.0</td>\n",
              "      <td>84.0</td>\n",
              "      <td>2295.0</td>\n",
              "      <td>11.6</td>\n",
              "      <td>82</td>\n",
              "      <td>1</td>\n",
              "    </tr>\n",
              "    <tr>\n",
              "      <th>396</th>\n",
              "      <td>28.0</td>\n",
              "      <td>4</td>\n",
              "      <td>120.0</td>\n",
              "      <td>79.0</td>\n",
              "      <td>2625.0</td>\n",
              "      <td>18.6</td>\n",
              "      <td>82</td>\n",
              "      <td>1</td>\n",
              "    </tr>\n",
              "    <tr>\n",
              "      <th>397</th>\n",
              "      <td>31.0</td>\n",
              "      <td>4</td>\n",
              "      <td>119.0</td>\n",
              "      <td>82.0</td>\n",
              "      <td>2720.0</td>\n",
              "      <td>19.4</td>\n",
              "      <td>82</td>\n",
              "      <td>1</td>\n",
              "    </tr>\n",
              "  </tbody>\n",
              "</table>\n",
              "</div>"
            ],
            "text/plain": [
              "      MPG  Cylinders  Displacement  ...  Acceleration  ModelYear  Origin\n",
              "393  27.0          4         140.0  ...          15.6         82       1\n",
              "394  44.0          4          97.0  ...          24.6         82       2\n",
              "395  32.0          4         135.0  ...          11.6         82       1\n",
              "396  28.0          4         120.0  ...          18.6         82       1\n",
              "397  31.0          4         119.0  ...          19.4         82       1\n",
              "\n",
              "[5 rows x 8 columns]"
            ]
          },
          "metadata": {
            "tags": []
          },
          "execution_count": 3
        }
      ]
    },
    {
      "cell_type": "code",
      "metadata": {
        "colab": {
          "base_uri": "https://localhost:8080/"
        },
        "id": "VHfRHnqnLI3C",
        "outputId": "e9b6be39-9a14-425a-9399-e9b149a028f5"
      },
      "source": [
        "dataset.isna().sum()"
      ],
      "execution_count": 60,
      "outputs": [
        {
          "output_type": "execute_result",
          "data": {
            "text/plain": [
              "MPG             0\n",
              "Cylinders       0\n",
              "Displacement    0\n",
              "Horsepower      0\n",
              "Weight          0\n",
              "Acceleration    0\n",
              "ModelYear       0\n",
              "Origin          0\n",
              "dtype: int64"
            ]
          },
          "metadata": {
            "tags": []
          },
          "execution_count": 60
        }
      ]
    },
    {
      "cell_type": "code",
      "metadata": {
        "id": "Akw1JN6JLI3D"
      },
      "source": [
        "dataset = dataset.dropna()"
      ],
      "execution_count": 61,
      "outputs": []
    },
    {
      "cell_type": "code",
      "metadata": {
        "id": "AL-zdOAgLI3D"
      },
      "source": [
        "dataset['Origin'] = dataset['Origin'].map({1: 'USA', 2: 'Europe', 3: 'Japan'})"
      ],
      "execution_count": 62,
      "outputs": []
    },
    {
      "cell_type": "code",
      "metadata": {
        "id": "mRw5mJojLI3D"
      },
      "source": [
        "#split 80 20 train test split\n",
        "train_dataset = dataset.sample(frac=0.8,random_state=0)\n",
        "test_dataset = dataset.drop(train_dataset.index)"
      ],
      "execution_count": 7,
      "outputs": []
    },
    {
      "cell_type": "code",
      "metadata": {
        "colab": {
          "base_uri": "https://localhost:8080/"
        },
        "id": "oPDw1zgSLI3D",
        "outputId": "4fc162c6-f48d-4752-f328-7bf949bd270d"
      },
      "source": [
        "train_dataset.columns"
      ],
      "execution_count": 8,
      "outputs": [
        {
          "output_type": "execute_result",
          "data": {
            "text/plain": [
              "Index(['MPG', 'Cylinders', 'Displacement', 'Horsepower', 'Weight',\n",
              "       'Acceleration', 'ModelYear', 'Origin'],\n",
              "      dtype='object')"
            ]
          },
          "metadata": {
            "tags": []
          },
          "execution_count": 8
        }
      ]
    },
    {
      "cell_type": "code",
      "metadata": {
        "colab": {
          "base_uri": "https://localhost:8080/",
          "height": 204
        },
        "id": "-8RfL1lOLI3D",
        "outputId": "ad8a2c6e-8eb5-4f06-f232-00c7b05bf7f3"
      },
      "source": [
        "train_dataset.head()"
      ],
      "execution_count": 9,
      "outputs": [
        {
          "output_type": "execute_result",
          "data": {
            "text/html": [
              "<div>\n",
              "<style scoped>\n",
              "    .dataframe tbody tr th:only-of-type {\n",
              "        vertical-align: middle;\n",
              "    }\n",
              "\n",
              "    .dataframe tbody tr th {\n",
              "        vertical-align: top;\n",
              "    }\n",
              "\n",
              "    .dataframe thead th {\n",
              "        text-align: right;\n",
              "    }\n",
              "</style>\n",
              "<table border=\"1\" class=\"dataframe\">\n",
              "  <thead>\n",
              "    <tr style=\"text-align: right;\">\n",
              "      <th></th>\n",
              "      <th>MPG</th>\n",
              "      <th>Cylinders</th>\n",
              "      <th>Displacement</th>\n",
              "      <th>Horsepower</th>\n",
              "      <th>Weight</th>\n",
              "      <th>Acceleration</th>\n",
              "      <th>ModelYear</th>\n",
              "      <th>Origin</th>\n",
              "    </tr>\n",
              "  </thead>\n",
              "  <tbody>\n",
              "    <tr>\n",
              "      <th>146</th>\n",
              "      <td>28.0</td>\n",
              "      <td>4</td>\n",
              "      <td>90.0</td>\n",
              "      <td>75.0</td>\n",
              "      <td>2125.0</td>\n",
              "      <td>14.5</td>\n",
              "      <td>74</td>\n",
              "      <td>USA</td>\n",
              "    </tr>\n",
              "    <tr>\n",
              "      <th>282</th>\n",
              "      <td>22.3</td>\n",
              "      <td>4</td>\n",
              "      <td>140.0</td>\n",
              "      <td>88.0</td>\n",
              "      <td>2890.0</td>\n",
              "      <td>17.3</td>\n",
              "      <td>79</td>\n",
              "      <td>USA</td>\n",
              "    </tr>\n",
              "    <tr>\n",
              "      <th>69</th>\n",
              "      <td>12.0</td>\n",
              "      <td>8</td>\n",
              "      <td>350.0</td>\n",
              "      <td>160.0</td>\n",
              "      <td>4456.0</td>\n",
              "      <td>13.5</td>\n",
              "      <td>72</td>\n",
              "      <td>USA</td>\n",
              "    </tr>\n",
              "    <tr>\n",
              "      <th>378</th>\n",
              "      <td>38.0</td>\n",
              "      <td>4</td>\n",
              "      <td>105.0</td>\n",
              "      <td>63.0</td>\n",
              "      <td>2125.0</td>\n",
              "      <td>14.7</td>\n",
              "      <td>82</td>\n",
              "      <td>USA</td>\n",
              "    </tr>\n",
              "    <tr>\n",
              "      <th>331</th>\n",
              "      <td>33.8</td>\n",
              "      <td>4</td>\n",
              "      <td>97.0</td>\n",
              "      <td>67.0</td>\n",
              "      <td>2145.0</td>\n",
              "      <td>18.0</td>\n",
              "      <td>80</td>\n",
              "      <td>Japan</td>\n",
              "    </tr>\n",
              "  </tbody>\n",
              "</table>\n",
              "</div>"
            ],
            "text/plain": [
              "      MPG  Cylinders  Displacement  ...  Acceleration  ModelYear  Origin\n",
              "146  28.0          4          90.0  ...          14.5         74     USA\n",
              "282  22.3          4         140.0  ...          17.3         79     USA\n",
              "69   12.0          8         350.0  ...          13.5         72     USA\n",
              "378  38.0          4         105.0  ...          14.7         82     USA\n",
              "331  33.8          4          97.0  ...          18.0         80   Japan\n",
              "\n",
              "[5 rows x 8 columns]"
            ]
          },
          "metadata": {
            "tags": []
          },
          "execution_count": 9
        }
      ]
    },
    {
      "cell_type": "code",
      "metadata": {
        "id": "cW-OHXtsLI3E"
      },
      "source": [
        "train_labels = train_dataset['MPG']"
      ],
      "execution_count": 10,
      "outputs": []
    },
    {
      "cell_type": "code",
      "metadata": {
        "colab": {
          "base_uri": "https://localhost:8080/",
          "height": 235
        },
        "id": "eXYo7DEiLI3E",
        "outputId": "43a944f8-9bf4-4684-b2f1-7006f51d3ba9"
      },
      "source": [
        "train_stats = train_dataset.describe()\n",
        "train_stats.pop(\"MPG\")\n",
        "train_stats = train_stats.transpose()\n",
        "train_stats"
      ],
      "execution_count": 11,
      "outputs": [
        {
          "output_type": "execute_result",
          "data": {
            "text/html": [
              "<div>\n",
              "<style scoped>\n",
              "    .dataframe tbody tr th:only-of-type {\n",
              "        vertical-align: middle;\n",
              "    }\n",
              "\n",
              "    .dataframe tbody tr th {\n",
              "        vertical-align: top;\n",
              "    }\n",
              "\n",
              "    .dataframe thead th {\n",
              "        text-align: right;\n",
              "    }\n",
              "</style>\n",
              "<table border=\"1\" class=\"dataframe\">\n",
              "  <thead>\n",
              "    <tr style=\"text-align: right;\">\n",
              "      <th></th>\n",
              "      <th>count</th>\n",
              "      <th>mean</th>\n",
              "      <th>std</th>\n",
              "      <th>min</th>\n",
              "      <th>25%</th>\n",
              "      <th>50%</th>\n",
              "      <th>75%</th>\n",
              "      <th>max</th>\n",
              "    </tr>\n",
              "  </thead>\n",
              "  <tbody>\n",
              "    <tr>\n",
              "      <th>Cylinders</th>\n",
              "      <td>314.0</td>\n",
              "      <td>5.477707</td>\n",
              "      <td>1.699788</td>\n",
              "      <td>3.0</td>\n",
              "      <td>4.00</td>\n",
              "      <td>4.0</td>\n",
              "      <td>8.00</td>\n",
              "      <td>8.0</td>\n",
              "    </tr>\n",
              "    <tr>\n",
              "      <th>Displacement</th>\n",
              "      <td>314.0</td>\n",
              "      <td>195.318471</td>\n",
              "      <td>104.331589</td>\n",
              "      <td>68.0</td>\n",
              "      <td>105.50</td>\n",
              "      <td>151.0</td>\n",
              "      <td>265.75</td>\n",
              "      <td>455.0</td>\n",
              "    </tr>\n",
              "    <tr>\n",
              "      <th>Horsepower</th>\n",
              "      <td>314.0</td>\n",
              "      <td>104.869427</td>\n",
              "      <td>38.096214</td>\n",
              "      <td>46.0</td>\n",
              "      <td>76.25</td>\n",
              "      <td>94.5</td>\n",
              "      <td>128.00</td>\n",
              "      <td>225.0</td>\n",
              "    </tr>\n",
              "    <tr>\n",
              "      <th>Weight</th>\n",
              "      <td>314.0</td>\n",
              "      <td>2990.251592</td>\n",
              "      <td>843.898596</td>\n",
              "      <td>1649.0</td>\n",
              "      <td>2256.50</td>\n",
              "      <td>2822.5</td>\n",
              "      <td>3608.00</td>\n",
              "      <td>5140.0</td>\n",
              "    </tr>\n",
              "    <tr>\n",
              "      <th>Acceleration</th>\n",
              "      <td>314.0</td>\n",
              "      <td>15.559236</td>\n",
              "      <td>2.789230</td>\n",
              "      <td>8.0</td>\n",
              "      <td>13.80</td>\n",
              "      <td>15.5</td>\n",
              "      <td>17.20</td>\n",
              "      <td>24.8</td>\n",
              "    </tr>\n",
              "    <tr>\n",
              "      <th>ModelYear</th>\n",
              "      <td>314.0</td>\n",
              "      <td>75.898089</td>\n",
              "      <td>3.675642</td>\n",
              "      <td>70.0</td>\n",
              "      <td>73.00</td>\n",
              "      <td>76.0</td>\n",
              "      <td>79.00</td>\n",
              "      <td>82.0</td>\n",
              "    </tr>\n",
              "  </tbody>\n",
              "</table>\n",
              "</div>"
            ],
            "text/plain": [
              "              count         mean         std  ...     50%      75%     max\n",
              "Cylinders     314.0     5.477707    1.699788  ...     4.0     8.00     8.0\n",
              "Displacement  314.0   195.318471  104.331589  ...   151.0   265.75   455.0\n",
              "Horsepower    314.0   104.869427   38.096214  ...    94.5   128.00   225.0\n",
              "Weight        314.0  2990.251592  843.898596  ...  2822.5  3608.00  5140.0\n",
              "Acceleration  314.0    15.559236    2.789230  ...    15.5    17.20    24.8\n",
              "ModelYear     314.0    75.898089    3.675642  ...    76.0    79.00    82.0\n",
              "\n",
              "[6 rows x 8 columns]"
            ]
          },
          "metadata": {
            "tags": []
          },
          "execution_count": 11
        }
      ]
    },
    {
      "cell_type": "code",
      "metadata": {
        "id": "MWwqjmhnLI3E"
      },
      "source": [
        "# Identify categorical and numerical features\n",
        "\n",
        "categorical_feature_list = ['Origin']\n",
        "# for the sake of this exercise treat Model Year and Cylinders as numerical but could process differently\n",
        "numerical_feature_list = ['Cylinders', 'Displacement', 'Horsepower', 'Weight',\n",
        "       'Acceleration', 'ModelYear']"
      ],
      "execution_count": 12,
      "outputs": []
    },
    {
      "cell_type": "code",
      "metadata": {
        "id": "pSA0kEJ9LI3E"
      },
      "source": [
        "def norm(x):\n",
        "    return (x - train_stats['mean']) / train_stats['std']\n",
        "normed_train_data = norm(train_dataset[numerical_feature_list])\n",
        "normed_test_data = norm(test_dataset[numerical_feature_list])"
      ],
      "execution_count": 13,
      "outputs": []
    },
    {
      "cell_type": "code",
      "metadata": {
        "id": "4inLaKCjLI3E"
      },
      "source": [
        "norm_train_data = pd.concat([ train_dataset[categorical_feature_list + ['MPG']],  normed_train_data], \n",
        "                            axis=1, sort=False)\n",
        "norm_test_data = pd.concat([ test_dataset[categorical_feature_list + ['MPG']], normed_test_data], axis=1, sort=False)"
      ],
      "execution_count": 14,
      "outputs": []
    },
    {
      "cell_type": "code",
      "metadata": {
        "id": "DczaKIOKLI3F"
      },
      "source": [
        "norm_train_data.to_csv(\"mpg_train_data.csv\", index=False)\n",
        "norm_test_data.to_csv(\"mpg_test_data.csv\", index=False)"
      ],
      "execution_count": 15,
      "outputs": []
    },
    {
      "cell_type": "code",
      "metadata": {
        "colab": {
          "base_uri": "https://localhost:8080/",
          "height": 204
        },
        "id": "xlzrHycvLI3F",
        "outputId": "1c8ecffe-2495-42da-ae87-d017f351cf67"
      },
      "source": [
        "norm_train_data.head()"
      ],
      "execution_count": 16,
      "outputs": [
        {
          "output_type": "execute_result",
          "data": {
            "text/html": [
              "<div>\n",
              "<style scoped>\n",
              "    .dataframe tbody tr th:only-of-type {\n",
              "        vertical-align: middle;\n",
              "    }\n",
              "\n",
              "    .dataframe tbody tr th {\n",
              "        vertical-align: top;\n",
              "    }\n",
              "\n",
              "    .dataframe thead th {\n",
              "        text-align: right;\n",
              "    }\n",
              "</style>\n",
              "<table border=\"1\" class=\"dataframe\">\n",
              "  <thead>\n",
              "    <tr style=\"text-align: right;\">\n",
              "      <th></th>\n",
              "      <th>Origin</th>\n",
              "      <th>MPG</th>\n",
              "      <th>Cylinders</th>\n",
              "      <th>Displacement</th>\n",
              "      <th>Horsepower</th>\n",
              "      <th>Weight</th>\n",
              "      <th>Acceleration</th>\n",
              "      <th>ModelYear</th>\n",
              "    </tr>\n",
              "  </thead>\n",
              "  <tbody>\n",
              "    <tr>\n",
              "      <th>146</th>\n",
              "      <td>USA</td>\n",
              "      <td>28.0</td>\n",
              "      <td>-0.869348</td>\n",
              "      <td>-1.009459</td>\n",
              "      <td>-0.784052</td>\n",
              "      <td>-1.025303</td>\n",
              "      <td>-0.379759</td>\n",
              "      <td>-0.516397</td>\n",
              "    </tr>\n",
              "    <tr>\n",
              "      <th>282</th>\n",
              "      <td>USA</td>\n",
              "      <td>22.3</td>\n",
              "      <td>-0.869348</td>\n",
              "      <td>-0.530218</td>\n",
              "      <td>-0.442811</td>\n",
              "      <td>-0.118796</td>\n",
              "      <td>0.624102</td>\n",
              "      <td>0.843910</td>\n",
              "    </tr>\n",
              "    <tr>\n",
              "      <th>69</th>\n",
              "      <td>USA</td>\n",
              "      <td>12.0</td>\n",
              "      <td>1.483887</td>\n",
              "      <td>1.482595</td>\n",
              "      <td>1.447140</td>\n",
              "      <td>1.736877</td>\n",
              "      <td>-0.738281</td>\n",
              "      <td>-1.060519</td>\n",
              "    </tr>\n",
              "    <tr>\n",
              "      <th>378</th>\n",
              "      <td>USA</td>\n",
              "      <td>38.0</td>\n",
              "      <td>-0.869348</td>\n",
              "      <td>-0.865687</td>\n",
              "      <td>-1.099044</td>\n",
              "      <td>-1.025303</td>\n",
              "      <td>-0.308055</td>\n",
              "      <td>1.660094</td>\n",
              "    </tr>\n",
              "    <tr>\n",
              "      <th>331</th>\n",
              "      <td>Japan</td>\n",
              "      <td>33.8</td>\n",
              "      <td>-0.869348</td>\n",
              "      <td>-0.942365</td>\n",
              "      <td>-0.994047</td>\n",
              "      <td>-1.001603</td>\n",
              "      <td>0.875068</td>\n",
              "      <td>1.115971</td>\n",
              "    </tr>\n",
              "  </tbody>\n",
              "</table>\n",
              "</div>"
            ],
            "text/plain": [
              "    Origin   MPG  Cylinders  ...    Weight  Acceleration  ModelYear\n",
              "146    USA  28.0  -0.869348  ... -1.025303     -0.379759  -0.516397\n",
              "282    USA  22.3  -0.869348  ... -0.118796      0.624102   0.843910\n",
              "69     USA  12.0   1.483887  ...  1.736877     -0.738281  -1.060519\n",
              "378    USA  38.0  -0.869348  ... -1.025303     -0.308055   1.660094\n",
              "331  Japan  33.8  -0.869348  ... -1.001603      0.875068   1.115971\n",
              "\n",
              "[5 rows x 8 columns]"
            ]
          },
          "metadata": {
            "tags": []
          },
          "execution_count": 16
        }
      ]
    },
    {
      "cell_type": "markdown",
      "metadata": {
        "id": "E8Yx13faLI3F"
      },
      "source": [
        "### Load Preprocessed Dataset"
      ]
    },
    {
      "cell_type": "markdown",
      "metadata": {
        "id": "DpTOd5EpLI3F"
      },
      "source": [
        "- Use TF Dataset API and Feature Column APIs instead"
      ]
    },
    {
      "cell_type": "code",
      "metadata": {
        "id": "iPccBzovLI3F"
      },
      "source": [
        "# Mile stone -- read the preprocessed data in, and start the process of TF preprocessing\n",
        "train_data = pd.read_csv(\"mpg_train_data.csv\" )\n",
        "test_data = pd.read_csv(\"mpg_test_data.csv\" )"
      ],
      "execution_count": 17,
      "outputs": []
    },
    {
      "cell_type": "code",
      "metadata": {
        "id": "mrw98QESLI3F"
      },
      "source": [
        "#adapted from https://www.tensorflow.org/tutorials/structured_data/feature_columns\n",
        "\n",
        "# Always feels too manual to make these batches...\n",
        "def df_to_dataset(df, predictor,  batch_size=32):\n",
        "    df = df.copy()\n",
        "    labels = df.pop(predictor)\n",
        "    ds = tf.data.Dataset.from_tensor_slices((dict(df), labels))\n",
        "    ds = ds.shuffle(buffer_size=len(df))\n",
        "    ds = ds.batch(batch_size)\n",
        "    return ds"
      ],
      "execution_count": 18,
      "outputs": []
    },
    {
      "cell_type": "code",
      "metadata": {
        "id": "UB7Hw7TPLI3G"
      },
      "source": [
        "# Convert to tensors, acknowledging the label as well as the batch size.\n",
        "\n",
        "PREDICTOR_FIELD = 'MPG'\n",
        "batch_size = 128\n",
        "train_ds = df_to_dataset(train_data, PREDICTOR_FIELD, batch_size=batch_size)\n",
        "test_ds = df_to_dataset(test_data, PREDICTOR_FIELD, batch_size=batch_size)"
      ],
      "execution_count": 63,
      "outputs": []
    },
    {
      "cell_type": "code",
      "metadata": {
        "id": "9AA5fQcoLI3G"
      },
      "source": [
        "sample_batch = next(iter(train_ds))[0]\n",
        "def demo(feature_column, example_batch):\n",
        "    feature_layer = tf.keras.layers.DenseFeatures(feature_column)\n",
        "    print(feature_layer(example_batch))"
      ],
      "execution_count": 64,
      "outputs": []
    },
    {
      "cell_type": "markdown",
      "metadata": {
        "id": "-h1gnMFhLI3G"
      },
      "source": [
        "### Convert Origin Categorical Feature to One Hot Encoded Feature"
      ]
    },
    {
      "cell_type": "code",
      "metadata": {
        "id": "A_9FxQeFLI3G"
      },
      "source": [
        "# only feature \n",
        "v_list = tf.feature_column.categorical_column_with_vocabulary_list(\"Origin\", \n",
        "                                                            train_data['Origin'].unique())\n",
        "one_hot_origin_feature = tf.feature_column.indicator_column(v_list)"
      ],
      "execution_count": 21,
      "outputs": []
    },
    {
      "cell_type": "code",
      "metadata": {
        "colab": {
          "base_uri": "https://localhost:8080/"
        },
        "id": "g67mq3NHLI3G",
        "outputId": "b1845778-2836-4c09-eab7-7b1e34f4150d"
      },
      "source": [
        "print(\"Example categorical field:\\n{}\".format(one_hot_origin_feature))\n",
        "demo(one_hot_origin_feature, sample_batch)"
      ],
      "execution_count": 22,
      "outputs": [
        {
          "output_type": "stream",
          "text": [
            "Example categorical field:\n",
            "IndicatorColumn(categorical_column=VocabularyListCategoricalColumn(key='Origin', vocabulary_list=('USA', 'Japan', 'Europe'), dtype=tf.string, default_value=-1, num_oov_buckets=0))\n",
            "tf.Tensor(\n",
            "[[1. 0. 0.]\n",
            " [1. 0. 0.]\n",
            " [1. 0. 0.]\n",
            " [1. 0. 0.]\n",
            " [0. 0. 1.]\n",
            " [0. 1. 0.]\n",
            " [1. 0. 0.]\n",
            " [1. 0. 0.]\n",
            " [0. 0. 1.]\n",
            " [1. 0. 0.]\n",
            " [1. 0. 0.]\n",
            " [0. 0. 1.]\n",
            " [1. 0. 0.]\n",
            " [1. 0. 0.]\n",
            " [0. 0. 1.]\n",
            " [1. 0. 0.]\n",
            " [1. 0. 0.]\n",
            " [1. 0. 0.]\n",
            " [1. 0. 0.]\n",
            " [1. 0. 0.]\n",
            " [1. 0. 0.]\n",
            " [1. 0. 0.]\n",
            " [1. 0. 0.]\n",
            " [1. 0. 0.]\n",
            " [0. 0. 1.]\n",
            " [0. 0. 1.]\n",
            " [1. 0. 0.]\n",
            " [1. 0. 0.]\n",
            " [0. 1. 0.]\n",
            " [0. 1. 0.]\n",
            " [0. 0. 1.]\n",
            " [1. 0. 0.]\n",
            " [0. 1. 0.]\n",
            " [0. 1. 0.]\n",
            " [1. 0. 0.]\n",
            " [1. 0. 0.]\n",
            " [0. 1. 0.]\n",
            " [0. 1. 0.]\n",
            " [0. 0. 1.]\n",
            " [1. 0. 0.]\n",
            " [0. 1. 0.]\n",
            " [1. 0. 0.]\n",
            " [1. 0. 0.]\n",
            " [0. 0. 1.]\n",
            " [1. 0. 0.]\n",
            " [1. 0. 0.]\n",
            " [1. 0. 0.]\n",
            " [1. 0. 0.]\n",
            " [0. 0. 1.]\n",
            " [1. 0. 0.]\n",
            " [1. 0. 0.]\n",
            " [1. 0. 0.]\n",
            " [0. 1. 0.]\n",
            " [1. 0. 0.]\n",
            " [1. 0. 0.]\n",
            " [1. 0. 0.]\n",
            " [0. 1. 0.]\n",
            " [1. 0. 0.]\n",
            " [0. 1. 0.]\n",
            " [1. 0. 0.]\n",
            " [1. 0. 0.]\n",
            " [1. 0. 0.]\n",
            " [0. 0. 1.]\n",
            " [1. 0. 0.]\n",
            " [1. 0. 0.]\n",
            " [0. 1. 0.]\n",
            " [0. 1. 0.]\n",
            " [1. 0. 0.]\n",
            " [1. 0. 0.]\n",
            " [1. 0. 0.]\n",
            " [1. 0. 0.]\n",
            " [0. 1. 0.]\n",
            " [1. 0. 0.]\n",
            " [0. 1. 0.]\n",
            " [1. 0. 0.]\n",
            " [1. 0. 0.]\n",
            " [1. 0. 0.]\n",
            " [0. 0. 1.]\n",
            " [1. 0. 0.]\n",
            " [0. 1. 0.]\n",
            " [1. 0. 0.]\n",
            " [0. 1. 0.]\n",
            " [0. 1. 0.]\n",
            " [1. 0. 0.]\n",
            " [0. 0. 1.]\n",
            " [0. 1. 0.]\n",
            " [1. 0. 0.]\n",
            " [1. 0. 0.]\n",
            " [0. 1. 0.]\n",
            " [1. 0. 0.]\n",
            " [0. 1. 0.]\n",
            " [0. 0. 1.]\n",
            " [1. 0. 0.]\n",
            " [0. 1. 0.]\n",
            " [1. 0. 0.]\n",
            " [1. 0. 0.]\n",
            " [1. 0. 0.]\n",
            " [1. 0. 0.]\n",
            " [0. 1. 0.]\n",
            " [1. 0. 0.]\n",
            " [1. 0. 0.]\n",
            " [1. 0. 0.]\n",
            " [1. 0. 0.]\n",
            " [1. 0. 0.]\n",
            " [0. 1. 0.]\n",
            " [1. 0. 0.]\n",
            " [1. 0. 0.]\n",
            " [1. 0. 0.]\n",
            " [1. 0. 0.]\n",
            " [0. 0. 1.]\n",
            " [1. 0. 0.]\n",
            " [1. 0. 0.]\n",
            " [1. 0. 0.]\n",
            " [1. 0. 0.]\n",
            " [0. 0. 1.]\n",
            " [1. 0. 0.]\n",
            " [0. 0. 1.]\n",
            " [0. 0. 1.]\n",
            " [0. 1. 0.]\n",
            " [0. 0. 1.]\n",
            " [1. 0. 0.]\n",
            " [1. 0. 0.]\n",
            " [1. 0. 0.]\n",
            " [1. 0. 0.]\n",
            " [0. 1. 0.]\n",
            " [1. 0. 0.]\n",
            " [1. 0. 0.]\n",
            " [1. 0. 0.]], shape=(128, 3), dtype=float32)\n"
          ],
          "name": "stdout"
        }
      ]
    },
    {
      "cell_type": "markdown",
      "metadata": {
        "id": "yDJyB0fsLI3H"
      },
      "source": [
        "### Create Numerical Features"
      ]
    },
    {
      "cell_type": "markdown",
      "metadata": {
        "id": "f-7PKnt4LI3H"
      },
      "source": [
        "NOTE: We do not use the normalizer function here because the dataset has already been normalized."
      ]
    },
    {
      "cell_type": "code",
      "metadata": {
        "id": "ARWrmR_5LI3H"
      },
      "source": [
        "#convert numerical features, these features have already been normalized\n",
        "def create_tf_numerical_feature_cols(numerical_col_list):\n",
        "    tf_numeric_col_list = []\n",
        "    for c in numerical_col_list:\n",
        "        tf_numeric_feature = tf.feature_column.numeric_column(\n",
        "                    key=c,  dtype=tf.float64)\n",
        "        tf_numeric_col_list.append(tf_numeric_feature)\n",
        "    return tf_numeric_col_list"
      ],
      "execution_count": 23,
      "outputs": []
    },
    {
      "cell_type": "code",
      "metadata": {
        "id": "fL2WHfBbLI3H"
      },
      "source": [
        "# Basically just identify our numerical features within our tensor\n",
        "tf_numerical_feature_list = create_tf_numerical_feature_cols(numerical_feature_list)"
      ],
      "execution_count": 24,
      "outputs": []
    },
    {
      "cell_type": "code",
      "metadata": {
        "colab": {
          "base_uri": "https://localhost:8080/"
        },
        "id": "goLcrvO4LI3H",
        "outputId": "9aaece16-7969-4ebc-9046-adfcc6eb43c0"
      },
      "source": [
        "tf_numerical_feature_list"
      ],
      "execution_count": 25,
      "outputs": [
        {
          "output_type": "execute_result",
          "data": {
            "text/plain": [
              "[NumericColumn(key='Cylinders', shape=(1,), default_value=None, dtype=tf.float64, normalizer_fn=None),\n",
              " NumericColumn(key='Displacement', shape=(1,), default_value=None, dtype=tf.float64, normalizer_fn=None),\n",
              " NumericColumn(key='Horsepower', shape=(1,), default_value=None, dtype=tf.float64, normalizer_fn=None),\n",
              " NumericColumn(key='Weight', shape=(1,), default_value=None, dtype=tf.float64, normalizer_fn=None),\n",
              " NumericColumn(key='Acceleration', shape=(1,), default_value=None, dtype=tf.float64, normalizer_fn=None),\n",
              " NumericColumn(key='ModelYear', shape=(1,), default_value=None, dtype=tf.float64, normalizer_fn=None)]"
            ]
          },
          "metadata": {
            "tags": []
          },
          "execution_count": 25
        }
      ]
    },
    {
      "cell_type": "code",
      "metadata": {
        "colab": {
          "base_uri": "https://localhost:8080/"
        },
        "id": "XdrfEqRDLI3H",
        "outputId": "d5ff39fb-3578-4271-c6c3-b670647a2eec"
      },
      "source": [
        "# take first numerical feature\n",
        "test_cont_var1 = tf_numerical_feature_list[0]\n",
        "print(\"Example continuous field:\\n{}\\n\".format(test_cont_var1))\n",
        "demo(test_cont_var1, sample_batch)"
      ],
      "execution_count": 26,
      "outputs": [
        {
          "output_type": "stream",
          "text": [
            "Example continuous field:\n",
            "NumericColumn(key='Cylinders', shape=(1,), default_value=None, dtype=tf.float64, normalizer_fn=None)\n",
            "\n",
            "tf.Tensor(\n",
            "[[ 1.4838872 ]\n",
            " [ 1.4838872 ]\n",
            " [ 1.4838872 ]\n",
            " [ 0.30726957]\n",
            " [-0.86934805]\n",
            " [ 0.30726957]\n",
            " [-0.86934805]\n",
            " [ 1.4838872 ]\n",
            " [-0.86934805]\n",
            " [ 0.30726957]\n",
            " [-0.86934805]\n",
            " [-0.86934805]\n",
            " [ 0.30726957]\n",
            " [ 1.4838872 ]\n",
            " [-0.28103924]\n",
            " [ 0.30726957]\n",
            " [ 1.4838872 ]\n",
            " [-0.86934805]\n",
            " [-0.86934805]\n",
            " [-0.86934805]\n",
            " [ 1.4838872 ]\n",
            " [ 1.4838872 ]\n",
            " [ 1.4838872 ]\n",
            " [ 1.4838872 ]\n",
            " [-0.86934805]\n",
            " [-0.86934805]\n",
            " [ 0.30726957]\n",
            " [ 1.4838872 ]\n",
            " [-0.86934805]\n",
            " [-0.86934805]\n",
            " [ 0.30726957]\n",
            " [ 0.30726957]\n",
            " [-0.86934805]\n",
            " [-0.86934805]\n",
            " [-0.86934805]\n",
            " [ 1.4838872 ]\n",
            " [-0.86934805]\n",
            " [-0.86934805]\n",
            " [-0.86934805]\n",
            " [ 0.30726957]\n",
            " [-0.86934805]\n",
            " [ 0.30726957]\n",
            " [ 1.4838872 ]\n",
            " [-0.86934805]\n",
            " [-0.86934805]\n",
            " [ 1.4838872 ]\n",
            " [ 1.4838872 ]\n",
            " [ 1.4838872 ]\n",
            " [-0.86934805]\n",
            " [-0.86934805]\n",
            " [-0.86934805]\n",
            " [ 1.4838872 ]\n",
            " [-0.86934805]\n",
            " [-0.86934805]\n",
            " [ 0.30726957]\n",
            " [-0.86934805]\n",
            " [-0.86934805]\n",
            " [ 1.4838872 ]\n",
            " [-0.86934805]\n",
            " [ 1.4838872 ]\n",
            " [ 1.4838872 ]\n",
            " [ 1.4838872 ]\n",
            " [-0.86934805]\n",
            " [ 0.30726957]\n",
            " [-0.86934805]\n",
            " [-0.86934805]\n",
            " [-0.86934805]\n",
            " [ 1.4838872 ]\n",
            " [ 1.4838872 ]\n",
            " [ 0.30726957]\n",
            " [-0.86934805]\n",
            " [-0.86934805]\n",
            " [ 1.4838872 ]\n",
            " [-0.86934805]\n",
            " [-0.86934805]\n",
            " [ 1.4838872 ]\n",
            " [-0.86934805]\n",
            " [-0.86934805]\n",
            " [ 0.30726957]\n",
            " [-0.86934805]\n",
            " [-0.86934805]\n",
            " [-1.4576569 ]\n",
            " [-0.86934805]\n",
            " [ 1.4838872 ]\n",
            " [-0.86934805]\n",
            " [-0.86934805]\n",
            " [ 1.4838872 ]\n",
            " [ 0.30726957]\n",
            " [-0.86934805]\n",
            " [ 0.30726957]\n",
            " [-0.86934805]\n",
            " [-0.86934805]\n",
            " [-0.86934805]\n",
            " [ 0.30726957]\n",
            " [ 0.30726957]\n",
            " [ 1.4838872 ]\n",
            " [-0.86934805]\n",
            " [ 0.30726957]\n",
            " [-0.86934805]\n",
            " [ 0.30726957]\n",
            " [ 0.30726957]\n",
            " [ 0.30726957]\n",
            " [ 1.4838872 ]\n",
            " [-0.86934805]\n",
            " [-0.86934805]\n",
            " [ 1.4838872 ]\n",
            " [ 1.4838872 ]\n",
            " [ 0.30726957]\n",
            " [-0.86934805]\n",
            " [-0.86934805]\n",
            " [ 1.4838872 ]\n",
            " [ 1.4838872 ]\n",
            " [ 1.4838872 ]\n",
            " [-0.86934805]\n",
            " [-0.86934805]\n",
            " [ 0.30726957]\n",
            " [-0.86934805]\n",
            " [-0.86934805]\n",
            " [-0.86934805]\n",
            " [-0.86934805]\n",
            " [ 0.30726957]\n",
            " [ 1.4838872 ]\n",
            " [ 1.4838872 ]\n",
            " [ 1.4838872 ]\n",
            " [-0.86934805]\n",
            " [-0.86934805]\n",
            " [-0.86934805]\n",
            " [ 0.30726957]], shape=(128, 1), dtype=float32)\n"
          ],
          "name": "stdout"
        }
      ]
    },
    {
      "cell_type": "markdown",
      "metadata": {
        "id": "b0dOxGc6LI3I"
      },
      "source": [
        "### Combine TF Features with DenseFeatures"
      ]
    },
    {
      "cell_type": "code",
      "metadata": {
        "id": "Y9W-omkeLI3I"
      },
      "source": [
        "# Combine all of our features\n",
        "feature_columns = [ one_hot_origin_feature ] + tf_numerical_feature_list"
      ],
      "execution_count": 27,
      "outputs": []
    },
    {
      "cell_type": "code",
      "metadata": {
        "colab": {
          "base_uri": "https://localhost:8080/"
        },
        "id": "hae0UWsYLI3I",
        "outputId": "63df61eb-0562-4b60-95d3-da1bfddef6b1"
      },
      "source": [
        "feature_columns"
      ],
      "execution_count": 28,
      "outputs": [
        {
          "output_type": "execute_result",
          "data": {
            "text/plain": [
              "[IndicatorColumn(categorical_column=VocabularyListCategoricalColumn(key='Origin', vocabulary_list=('USA', 'Japan', 'Europe'), dtype=tf.string, default_value=-1, num_oov_buckets=0)),\n",
              " NumericColumn(key='Cylinders', shape=(1,), default_value=None, dtype=tf.float64, normalizer_fn=None),\n",
              " NumericColumn(key='Displacement', shape=(1,), default_value=None, dtype=tf.float64, normalizer_fn=None),\n",
              " NumericColumn(key='Horsepower', shape=(1,), default_value=None, dtype=tf.float64, normalizer_fn=None),\n",
              " NumericColumn(key='Weight', shape=(1,), default_value=None, dtype=tf.float64, normalizer_fn=None),\n",
              " NumericColumn(key='Acceleration', shape=(1,), default_value=None, dtype=tf.float64, normalizer_fn=None),\n",
              " NumericColumn(key='ModelYear', shape=(1,), default_value=None, dtype=tf.float64, normalizer_fn=None)]"
            ]
          },
          "metadata": {
            "tags": []
          },
          "execution_count": 28
        }
      ]
    },
    {
      "cell_type": "code",
      "metadata": {
        "id": "PpgPuYMOLI3I"
      },
      "source": [
        "# Create a DenseFeature layer to run in model\n",
        "dense_feature_layer = tf.keras.layers.DenseFeatures(feature_columns)"
      ],
      "execution_count": 65,
      "outputs": []
    },
    {
      "cell_type": "code",
      "metadata": {
        "id": "YgnjdqCbLI3I"
      },
      "source": [
        "# Use same architecture as example\n",
        "def build_model(dense_feature_layer):\n",
        "    model = tf.keras.Sequential([\n",
        "    dense_feature_layer,\n",
        "    tf.keras.layers.Dense(64, activation='relu'),\n",
        "    tf.keras.layers.Dense(64, activation='relu'),\n",
        "    tf.keras.layers.Dense(1)\n",
        "    ])\n",
        "\n",
        "    optimizer = tf.keras.optimizers.RMSprop(0.001)\n",
        "\n",
        "    model.compile(loss='mse',\n",
        "                optimizer=optimizer,\n",
        "                metrics=['mae', 'mse'])\n",
        "    \n",
        "\n",
        "    return model"
      ],
      "execution_count": 30,
      "outputs": []
    },
    {
      "cell_type": "code",
      "metadata": {
        "id": "dRMV-p3LLI3I"
      },
      "source": [
        "model = build_model(dense_feature_layer)"
      ],
      "execution_count": 31,
      "outputs": []
    },
    {
      "cell_type": "code",
      "metadata": {
        "id": "nd44NK9aLI3J"
      },
      "source": [
        "# validation split"
      ],
      "execution_count": 32,
      "outputs": []
    },
    {
      "cell_type": "code",
      "metadata": {
        "colab": {
          "base_uri": "https://localhost:8080/"
        },
        "id": "q0j3xe_DLI3J",
        "outputId": "2730ece9-e0fe-4204-b3a6-697ee6f76ad7"
      },
      "source": [
        "# No validation set b/c need to build separate TF dataset\n",
        "EPOCHS = 2000\n",
        "# Set to patience to 100 so it trains to end of epochs\n",
        "early_stop = tf.keras.callbacks.EarlyStopping(monitor='mse', patience=10)     \n",
        "history = model.fit(train_ds,   callbacks=[early_stop], epochs=EPOCHS,  verbose=1)"
      ],
      "execution_count": 33,
      "outputs": [
        {
          "output_type": "stream",
          "text": [
            "Epoch 1/2000\n",
            "WARNING:tensorflow:Layers in a Sequential model should only have a single input tensor, but we receive a <class 'dict'> input: {'Origin': <tf.Tensor 'ExpandDims_5:0' shape=(None, 1) dtype=string>, 'Cylinders': <tf.Tensor 'ExpandDims_1:0' shape=(None, 1) dtype=float64>, 'Displacement': <tf.Tensor 'ExpandDims_2:0' shape=(None, 1) dtype=float64>, 'Horsepower': <tf.Tensor 'ExpandDims_3:0' shape=(None, 1) dtype=float64>, 'Weight': <tf.Tensor 'ExpandDims_6:0' shape=(None, 1) dtype=float64>, 'Acceleration': <tf.Tensor 'ExpandDims:0' shape=(None, 1) dtype=float64>, 'ModelYear': <tf.Tensor 'ExpandDims_4:0' shape=(None, 1) dtype=float64>}\n",
            "Consider rewriting this model with the Functional API.\n",
            "WARNING:tensorflow:Layers in a Sequential model should only have a single input tensor, but we receive a <class 'dict'> input: {'Origin': <tf.Tensor 'ExpandDims_5:0' shape=(None, 1) dtype=string>, 'Cylinders': <tf.Tensor 'ExpandDims_1:0' shape=(None, 1) dtype=float64>, 'Displacement': <tf.Tensor 'ExpandDims_2:0' shape=(None, 1) dtype=float64>, 'Horsepower': <tf.Tensor 'ExpandDims_3:0' shape=(None, 1) dtype=float64>, 'Weight': <tf.Tensor 'ExpandDims_6:0' shape=(None, 1) dtype=float64>, 'Acceleration': <tf.Tensor 'ExpandDims:0' shape=(None, 1) dtype=float64>, 'ModelYear': <tf.Tensor 'ExpandDims_4:0' shape=(None, 1) dtype=float64>}\n",
            "Consider rewriting this model with the Functional API.\n",
            "3/3 [==============================] - 2s 6ms/step - loss: 590.8914 - mae: 23.0158 - mse: 590.8914\n",
            "Epoch 2/2000\n",
            "3/3 [==============================] - 0s 8ms/step - loss: 550.8382 - mae: 22.2003 - mse: 550.8382\n",
            "Epoch 3/2000\n",
            "3/3 [==============================] - 0s 5ms/step - loss: 544.8239 - mae: 22.0126 - mse: 544.8239\n",
            "Epoch 4/2000\n",
            "3/3 [==============================] - 0s 5ms/step - loss: 524.6421 - mae: 21.5527 - mse: 524.6421\n",
            "Epoch 5/2000\n",
            "3/3 [==============================] - 0s 4ms/step - loss: 499.0091 - mae: 20.9877 - mse: 499.0091\n",
            "Epoch 6/2000\n",
            "3/3 [==============================] - 0s 5ms/step - loss: 476.8612 - mae: 20.4919 - mse: 476.8612\n",
            "Epoch 7/2000\n",
            "3/3 [==============================] - 0s 4ms/step - loss: 464.6378 - mae: 20.1051 - mse: 464.6378\n",
            "Epoch 8/2000\n",
            "3/3 [==============================] - 0s 4ms/step - loss: 463.0334 - mae: 20.0256 - mse: 463.0334\n",
            "Epoch 9/2000\n",
            "3/3 [==============================] - 0s 5ms/step - loss: 435.7392 - mae: 19.3474 - mse: 435.7392\n",
            "Epoch 10/2000\n",
            "3/3 [==============================] - 0s 4ms/step - loss: 405.1194 - mae: 18.5653 - mse: 405.1194\n",
            "Epoch 11/2000\n",
            "3/3 [==============================] - 0s 4ms/step - loss: 373.7086 - mae: 17.7998 - mse: 373.7086\n",
            "Epoch 12/2000\n",
            "3/3 [==============================] - 0s 4ms/step - loss: 354.4957 - mae: 17.2757 - mse: 354.4957\n",
            "Epoch 13/2000\n",
            "3/3 [==============================] - 0s 4ms/step - loss: 344.1449 - mae: 16.9706 - mse: 344.1449\n",
            "Epoch 14/2000\n",
            "3/3 [==============================] - 0s 6ms/step - loss: 301.5529 - mae: 15.7568 - mse: 301.5529\n",
            "Epoch 15/2000\n",
            "3/3 [==============================] - 0s 4ms/step - loss: 290.3339 - mae: 15.4529 - mse: 290.3339\n",
            "Epoch 16/2000\n",
            "3/3 [==============================] - 0s 4ms/step - loss: 251.4553 - mae: 14.1917 - mse: 251.4553\n",
            "Epoch 17/2000\n",
            "3/3 [==============================] - 0s 4ms/step - loss: 231.6543 - mae: 13.5907 - mse: 231.6543\n",
            "Epoch 18/2000\n",
            "3/3 [==============================] - 0s 5ms/step - loss: 204.9336 - mae: 12.7791 - mse: 204.9336\n",
            "Epoch 19/2000\n",
            "3/3 [==============================] - 0s 5ms/step - loss: 188.3293 - mae: 12.2477 - mse: 188.3293\n",
            "Epoch 20/2000\n",
            "3/3 [==============================] - 0s 6ms/step - loss: 163.8110 - mae: 11.3558 - mse: 163.8110\n",
            "Epoch 21/2000\n",
            "3/3 [==============================] - 0s 5ms/step - loss: 146.5843 - mae: 10.7310 - mse: 146.5843\n",
            "Epoch 22/2000\n",
            "3/3 [==============================] - 0s 5ms/step - loss: 127.2982 - mae: 9.9644 - mse: 127.2982\n",
            "Epoch 23/2000\n",
            "3/3 [==============================] - 0s 5ms/step - loss: 106.2362 - mae: 9.0378 - mse: 106.2362\n",
            "Epoch 24/2000\n",
            "3/3 [==============================] - 0s 5ms/step - loss: 92.3405 - mae: 8.3239 - mse: 92.3405\n",
            "Epoch 25/2000\n",
            "3/3 [==============================] - 0s 4ms/step - loss: 74.8944 - mae: 7.5023 - mse: 74.8944\n",
            "Epoch 26/2000\n",
            "3/3 [==============================] - 0s 4ms/step - loss: 64.7144 - mae: 6.8776 - mse: 64.7144\n",
            "Epoch 27/2000\n",
            "3/3 [==============================] - 0s 5ms/step - loss: 52.9049 - mae: 6.1881 - mse: 52.9049\n",
            "Epoch 28/2000\n",
            "3/3 [==============================] - 0s 4ms/step - loss: 44.1207 - mae: 5.6752 - mse: 44.1207\n",
            "Epoch 29/2000\n",
            "3/3 [==============================] - 0s 4ms/step - loss: 37.2893 - mae: 5.0594 - mse: 37.2893\n",
            "Epoch 30/2000\n",
            "3/3 [==============================] - 0s 4ms/step - loss: 31.8910 - mae: 4.5819 - mse: 31.8910\n",
            "Epoch 31/2000\n",
            "3/3 [==============================] - 0s 4ms/step - loss: 26.7034 - mae: 4.1684 - mse: 26.7034\n",
            "Epoch 32/2000\n",
            "3/3 [==============================] - 0s 4ms/step - loss: 25.2327 - mae: 3.9683 - mse: 25.2327\n",
            "Epoch 33/2000\n",
            "3/3 [==============================] - 0s 4ms/step - loss: 22.2903 - mae: 3.6716 - mse: 22.2903\n",
            "Epoch 34/2000\n",
            "3/3 [==============================] - 0s 4ms/step - loss: 22.4501 - mae: 3.7004 - mse: 22.4501\n",
            "Epoch 35/2000\n",
            "3/3 [==============================] - 0s 4ms/step - loss: 19.7266 - mae: 3.4588 - mse: 19.7266\n",
            "Epoch 36/2000\n",
            "3/3 [==============================] - 0s 6ms/step - loss: 19.3329 - mae: 3.4388 - mse: 19.3329\n",
            "Epoch 37/2000\n",
            "3/3 [==============================] - 0s 5ms/step - loss: 18.5660 - mae: 3.4009 - mse: 18.5660\n",
            "Epoch 38/2000\n",
            "3/3 [==============================] - 0s 5ms/step - loss: 16.3755 - mae: 3.1800 - mse: 16.3755\n",
            "Epoch 39/2000\n",
            "3/3 [==============================] - 0s 5ms/step - loss: 16.1616 - mae: 3.1132 - mse: 16.1616\n",
            "Epoch 40/2000\n",
            "3/3 [==============================] - 0s 5ms/step - loss: 15.2483 - mae: 3.0379 - mse: 15.2483\n",
            "Epoch 41/2000\n",
            "3/3 [==============================] - 0s 4ms/step - loss: 14.7236 - mae: 2.9641 - mse: 14.7236\n",
            "Epoch 42/2000\n",
            "3/3 [==============================] - 0s 5ms/step - loss: 14.0837 - mae: 2.9103 - mse: 14.0837\n",
            "Epoch 43/2000\n",
            "3/3 [==============================] - 0s 4ms/step - loss: 13.8285 - mae: 2.8718 - mse: 13.8285\n",
            "Epoch 44/2000\n",
            "3/3 [==============================] - 0s 4ms/step - loss: 13.1072 - mae: 2.7382 - mse: 13.1072\n",
            "Epoch 45/2000\n",
            "3/3 [==============================] - 0s 4ms/step - loss: 12.5442 - mae: 2.7119 - mse: 12.5442\n",
            "Epoch 46/2000\n",
            "3/3 [==============================] - 0s 4ms/step - loss: 13.0754 - mae: 2.7653 - mse: 13.0754\n",
            "Epoch 47/2000\n",
            "3/3 [==============================] - 0s 5ms/step - loss: 11.6732 - mae: 2.5981 - mse: 11.6732\n",
            "Epoch 48/2000\n",
            "3/3 [==============================] - 0s 5ms/step - loss: 11.0421 - mae: 2.5349 - mse: 11.0421\n",
            "Epoch 49/2000\n",
            "3/3 [==============================] - 0s 4ms/step - loss: 10.9489 - mae: 2.5205 - mse: 10.9489\n",
            "Epoch 50/2000\n",
            "3/3 [==============================] - 0s 4ms/step - loss: 10.4761 - mae: 2.4398 - mse: 10.4761\n",
            "Epoch 51/2000\n",
            "3/3 [==============================] - 0s 4ms/step - loss: 9.8082 - mae: 2.3523 - mse: 9.8082\n",
            "Epoch 52/2000\n",
            "3/3 [==============================] - 0s 5ms/step - loss: 9.9447 - mae: 2.3579 - mse: 9.9447\n",
            "Epoch 53/2000\n",
            "3/3 [==============================] - 0s 7ms/step - loss: 10.1692 - mae: 2.3714 - mse: 10.1692\n",
            "Epoch 54/2000\n",
            "3/3 [==============================] - 0s 5ms/step - loss: 9.9753 - mae: 2.3484 - mse: 9.9753\n",
            "Epoch 55/2000\n",
            "3/3 [==============================] - 0s 5ms/step - loss: 9.3215 - mae: 2.2343 - mse: 9.3215\n",
            "Epoch 56/2000\n",
            "3/3 [==============================] - 0s 6ms/step - loss: 8.6783 - mae: 2.1884 - mse: 8.6783\n",
            "Epoch 57/2000\n",
            "3/3 [==============================] - 0s 5ms/step - loss: 9.1256 - mae: 2.2300 - mse: 9.1256\n",
            "Epoch 58/2000\n",
            "3/3 [==============================] - 0s 5ms/step - loss: 9.5754 - mae: 2.2534 - mse: 9.5754\n",
            "Epoch 59/2000\n",
            "3/3 [==============================] - 0s 5ms/step - loss: 8.9321 - mae: 2.1757 - mse: 8.9321\n",
            "Epoch 60/2000\n",
            "3/3 [==============================] - 0s 5ms/step - loss: 9.3394 - mae: 2.2039 - mse: 9.3394\n",
            "Epoch 61/2000\n",
            "3/3 [==============================] - 0s 4ms/step - loss: 8.4225 - mae: 2.1040 - mse: 8.4225\n",
            "Epoch 62/2000\n",
            "3/3 [==============================] - 0s 5ms/step - loss: 9.3066 - mae: 2.1931 - mse: 9.3066\n",
            "Epoch 63/2000\n",
            "3/3 [==============================] - 0s 4ms/step - loss: 8.5431 - mae: 2.1304 - mse: 8.5431\n",
            "Epoch 64/2000\n",
            "3/3 [==============================] - 0s 5ms/step - loss: 8.2182 - mae: 2.0547 - mse: 8.2182\n",
            "Epoch 65/2000\n",
            "3/3 [==============================] - 0s 5ms/step - loss: 8.3661 - mae: 2.0373 - mse: 8.3661\n",
            "Epoch 66/2000\n",
            "3/3 [==============================] - 0s 5ms/step - loss: 8.0371 - mae: 2.0589 - mse: 8.0371\n",
            "Epoch 67/2000\n",
            "3/3 [==============================] - 0s 4ms/step - loss: 8.5053 - mae: 2.0993 - mse: 8.5053\n",
            "Epoch 68/2000\n",
            "3/3 [==============================] - 0s 6ms/step - loss: 7.6958 - mae: 1.9899 - mse: 7.6958\n",
            "Epoch 69/2000\n",
            "3/3 [==============================] - 0s 5ms/step - loss: 7.5668 - mae: 2.0074 - mse: 7.5668\n",
            "Epoch 70/2000\n",
            "3/3 [==============================] - 0s 4ms/step - loss: 8.4632 - mae: 2.0993 - mse: 8.4632\n",
            "Epoch 71/2000\n",
            "3/3 [==============================] - 0s 6ms/step - loss: 7.4999 - mae: 1.9634 - mse: 7.4999\n",
            "Epoch 72/2000\n",
            "3/3 [==============================] - 0s 4ms/step - loss: 7.8270 - mae: 1.9935 - mse: 7.8270\n",
            "Epoch 73/2000\n",
            "3/3 [==============================] - 0s 4ms/step - loss: 8.3680 - mae: 2.0616 - mse: 8.3680\n",
            "Epoch 74/2000\n",
            "3/3 [==============================] - 0s 6ms/step - loss: 8.3028 - mae: 2.0849 - mse: 8.3028\n",
            "Epoch 75/2000\n",
            "3/3 [==============================] - 0s 4ms/step - loss: 8.0181 - mae: 2.0398 - mse: 8.0181\n",
            "Epoch 76/2000\n",
            "3/3 [==============================] - 0s 6ms/step - loss: 7.9441 - mae: 2.0152 - mse: 7.9441\n",
            "Epoch 77/2000\n",
            "3/3 [==============================] - 0s 5ms/step - loss: 7.5960 - mae: 1.9725 - mse: 7.5960\n",
            "Epoch 78/2000\n",
            "3/3 [==============================] - 0s 5ms/step - loss: 7.3428 - mae: 1.9770 - mse: 7.3428\n",
            "Epoch 79/2000\n",
            "3/3 [==============================] - 0s 5ms/step - loss: 7.3067 - mae: 1.9588 - mse: 7.3067\n",
            "Epoch 80/2000\n",
            "3/3 [==============================] - 0s 5ms/step - loss: 7.9096 - mae: 1.9979 - mse: 7.9096\n",
            "Epoch 81/2000\n",
            "3/3 [==============================] - 0s 6ms/step - loss: 7.8713 - mae: 1.9807 - mse: 7.8713\n",
            "Epoch 82/2000\n",
            "3/3 [==============================] - 0s 4ms/step - loss: 7.7363 - mae: 1.9906 - mse: 7.7363\n",
            "Epoch 83/2000\n",
            "3/3 [==============================] - 0s 5ms/step - loss: 7.4134 - mae: 1.9622 - mse: 7.4134\n",
            "Epoch 84/2000\n",
            "3/3 [==============================] - 0s 5ms/step - loss: 7.2849 - mae: 1.9276 - mse: 7.2849\n",
            "Epoch 85/2000\n",
            "3/3 [==============================] - 0s 5ms/step - loss: 7.5941 - mae: 1.9588 - mse: 7.5941\n",
            "Epoch 86/2000\n",
            "3/3 [==============================] - 0s 5ms/step - loss: 8.3100 - mae: 2.1027 - mse: 8.3100\n",
            "Epoch 87/2000\n",
            "3/3 [==============================] - 0s 5ms/step - loss: 6.9949 - mae: 1.9228 - mse: 6.9949\n",
            "Epoch 88/2000\n",
            "3/3 [==============================] - 0s 5ms/step - loss: 7.9371 - mae: 1.9967 - mse: 7.9371\n",
            "Epoch 89/2000\n",
            "3/3 [==============================] - 0s 5ms/step - loss: 7.7632 - mae: 1.9751 - mse: 7.7632\n",
            "Epoch 90/2000\n",
            "3/3 [==============================] - 0s 6ms/step - loss: 7.5926 - mae: 1.9386 - mse: 7.5926\n",
            "Epoch 91/2000\n",
            "3/3 [==============================] - 0s 4ms/step - loss: 7.2197 - mae: 1.9684 - mse: 7.2197\n",
            "Epoch 92/2000\n",
            "3/3 [==============================] - 0s 8ms/step - loss: 7.5798 - mae: 1.9368 - mse: 7.5798\n",
            "Epoch 93/2000\n",
            "3/3 [==============================] - 0s 5ms/step - loss: 7.3063 - mae: 1.9030 - mse: 7.3063\n",
            "Epoch 94/2000\n",
            "3/3 [==============================] - 0s 5ms/step - loss: 7.8497 - mae: 1.9905 - mse: 7.8497\n",
            "Epoch 95/2000\n",
            "3/3 [==============================] - 0s 7ms/step - loss: 7.1290 - mae: 1.9196 - mse: 7.1290\n",
            "Epoch 96/2000\n",
            "3/3 [==============================] - 0s 5ms/step - loss: 6.8036 - mae: 1.8870 - mse: 6.8036\n",
            "Epoch 97/2000\n",
            "3/3 [==============================] - 0s 5ms/step - loss: 7.4166 - mae: 1.9517 - mse: 7.4166\n",
            "Epoch 98/2000\n",
            "3/3 [==============================] - 0s 6ms/step - loss: 7.8079 - mae: 1.9636 - mse: 7.8079\n",
            "Epoch 99/2000\n",
            "3/3 [==============================] - 0s 5ms/step - loss: 7.7817 - mae: 1.9809 - mse: 7.7817\n",
            "Epoch 100/2000\n",
            "3/3 [==============================] - 0s 5ms/step - loss: 7.2285 - mae: 1.9176 - mse: 7.2285\n",
            "Epoch 101/2000\n",
            "3/3 [==============================] - 0s 7ms/step - loss: 7.1265 - mae: 1.9266 - mse: 7.1265\n",
            "Epoch 102/2000\n",
            "3/3 [==============================] - 0s 4ms/step - loss: 6.3754 - mae: 1.8297 - mse: 6.3754\n",
            "Epoch 103/2000\n",
            "3/3 [==============================] - 0s 4ms/step - loss: 6.9898 - mae: 1.9027 - mse: 6.9898\n",
            "Epoch 104/2000\n",
            "3/3 [==============================] - 0s 5ms/step - loss: 6.8499 - mae: 1.8888 - mse: 6.8499\n",
            "Epoch 105/2000\n",
            "3/3 [==============================] - 0s 6ms/step - loss: 6.9777 - mae: 1.8807 - mse: 6.9777\n",
            "Epoch 106/2000\n",
            "3/3 [==============================] - 0s 5ms/step - loss: 7.1854 - mae: 1.8845 - mse: 7.1854\n",
            "Epoch 107/2000\n",
            "3/3 [==============================] - 0s 5ms/step - loss: 6.8878 - mae: 1.8895 - mse: 6.8878\n",
            "Epoch 108/2000\n",
            "3/3 [==============================] - 0s 5ms/step - loss: 6.8841 - mae: 1.8687 - mse: 6.8841\n",
            "Epoch 109/2000\n",
            "3/3 [==============================] - 0s 5ms/step - loss: 6.6911 - mae: 1.8239 - mse: 6.6911\n",
            "Epoch 110/2000\n",
            "3/3 [==============================] - 0s 4ms/step - loss: 6.0465 - mae: 1.8265 - mse: 6.0465\n",
            "Epoch 111/2000\n",
            "3/3 [==============================] - 0s 5ms/step - loss: 7.2966 - mae: 1.9447 - mse: 7.2966\n",
            "Epoch 112/2000\n",
            "3/3 [==============================] - 0s 7ms/step - loss: 6.3630 - mae: 1.8212 - mse: 6.3630\n",
            "Epoch 113/2000\n",
            "3/3 [==============================] - 0s 6ms/step - loss: 7.1127 - mae: 1.8981 - mse: 7.1127\n",
            "Epoch 114/2000\n",
            "3/3 [==============================] - 0s 5ms/step - loss: 6.3056 - mae: 1.8084 - mse: 6.3056\n",
            "Epoch 115/2000\n",
            "3/3 [==============================] - 0s 6ms/step - loss: 7.1273 - mae: 1.9018 - mse: 7.1273\n",
            "Epoch 116/2000\n",
            "3/3 [==============================] - 0s 6ms/step - loss: 7.1072 - mae: 1.9079 - mse: 7.1072\n",
            "Epoch 117/2000\n",
            "3/3 [==============================] - 0s 5ms/step - loss: 7.1686 - mae: 1.8873 - mse: 7.1686\n",
            "Epoch 118/2000\n",
            "3/3 [==============================] - 0s 5ms/step - loss: 6.7841 - mae: 1.8565 - mse: 6.7841\n",
            "Epoch 119/2000\n",
            "3/3 [==============================] - 0s 5ms/step - loss: 6.7313 - mae: 1.8538 - mse: 6.7313\n",
            "Epoch 120/2000\n",
            "3/3 [==============================] - 0s 5ms/step - loss: 7.4191 - mae: 1.9314 - mse: 7.4191\n",
            "Epoch 121/2000\n",
            "3/3 [==============================] - 0s 6ms/step - loss: 7.2021 - mae: 1.9040 - mse: 7.2021\n",
            "Epoch 122/2000\n",
            "3/3 [==============================] - 0s 6ms/step - loss: 6.8091 - mae: 1.8415 - mse: 6.8091\n",
            "Epoch 123/2000\n",
            "3/3 [==============================] - 0s 6ms/step - loss: 6.2087 - mae: 1.8306 - mse: 6.2087\n",
            "Epoch 124/2000\n",
            "3/3 [==============================] - 0s 5ms/step - loss: 5.9151 - mae: 1.7457 - mse: 5.9151\n",
            "Epoch 125/2000\n",
            "3/3 [==============================] - 0s 5ms/step - loss: 6.9267 - mae: 1.8844 - mse: 6.9267\n",
            "Epoch 126/2000\n",
            "3/3 [==============================] - 0s 5ms/step - loss: 6.4191 - mae: 1.7886 - mse: 6.4191\n",
            "Epoch 127/2000\n",
            "3/3 [==============================] - 0s 5ms/step - loss: 6.7659 - mae: 1.8441 - mse: 6.7659\n",
            "Epoch 128/2000\n",
            "3/3 [==============================] - 0s 7ms/step - loss: 7.0702 - mae: 1.8987 - mse: 7.0702\n",
            "Epoch 129/2000\n",
            "3/3 [==============================] - 0s 6ms/step - loss: 6.5928 - mae: 1.8308 - mse: 6.5928\n",
            "Epoch 130/2000\n",
            "3/3 [==============================] - 0s 5ms/step - loss: 7.0312 - mae: 1.8769 - mse: 7.0312\n",
            "Epoch 131/2000\n",
            "3/3 [==============================] - 0s 5ms/step - loss: 6.9121 - mae: 1.8882 - mse: 6.9121\n",
            "Epoch 132/2000\n",
            "3/3 [==============================] - 0s 4ms/step - loss: 6.4873 - mae: 1.8276 - mse: 6.4873\n",
            "Epoch 133/2000\n",
            "3/3 [==============================] - 0s 6ms/step - loss: 6.8250 - mae: 1.8840 - mse: 6.8250\n",
            "Epoch 134/2000\n",
            "3/3 [==============================] - 0s 5ms/step - loss: 6.1106 - mae: 1.7909 - mse: 6.1106\n",
            "Epoch 135/2000\n",
            "3/3 [==============================] - 0s 5ms/step - loss: 6.5903 - mae: 1.8305 - mse: 6.5903\n",
            "Epoch 136/2000\n",
            "3/3 [==============================] - 0s 5ms/step - loss: 6.6923 - mae: 1.8188 - mse: 6.6923\n",
            "Epoch 137/2000\n",
            "3/3 [==============================] - 0s 4ms/step - loss: 6.4766 - mae: 1.7769 - mse: 6.4766\n",
            "Epoch 138/2000\n",
            "3/3 [==============================] - 0s 5ms/step - loss: 7.2947 - mae: 1.9254 - mse: 7.2947\n",
            "Epoch 139/2000\n",
            "3/3 [==============================] - 0s 6ms/step - loss: 6.8704 - mae: 1.8910 - mse: 6.8704\n",
            "Epoch 140/2000\n",
            "3/3 [==============================] - 0s 5ms/step - loss: 6.3448 - mae: 1.8024 - mse: 6.3448\n",
            "Epoch 141/2000\n",
            "3/3 [==============================] - 0s 5ms/step - loss: 6.9695 - mae: 1.8811 - mse: 6.9695\n",
            "Epoch 142/2000\n",
            "3/3 [==============================] - 0s 5ms/step - loss: 6.5231 - mae: 1.8539 - mse: 6.5231\n",
            "Epoch 143/2000\n",
            "3/3 [==============================] - 0s 5ms/step - loss: 6.3734 - mae: 1.7950 - mse: 6.3734\n",
            "Epoch 144/2000\n",
            "3/3 [==============================] - 0s 5ms/step - loss: 6.6457 - mae: 1.8282 - mse: 6.6457\n",
            "Epoch 145/2000\n",
            "3/3 [==============================] - 0s 6ms/step - loss: 6.3524 - mae: 1.8004 - mse: 6.3524\n",
            "Epoch 146/2000\n",
            "3/3 [==============================] - 0s 5ms/step - loss: 6.3994 - mae: 1.7998 - mse: 6.3994\n",
            "Epoch 147/2000\n",
            "3/3 [==============================] - 0s 5ms/step - loss: 6.0560 - mae: 1.7589 - mse: 6.0560\n",
            "Epoch 148/2000\n",
            "3/3 [==============================] - 0s 5ms/step - loss: 6.2881 - mae: 1.7895 - mse: 6.2881\n",
            "Epoch 149/2000\n",
            "3/3 [==============================] - 0s 5ms/step - loss: 6.9373 - mae: 1.8666 - mse: 6.9373\n",
            "Epoch 150/2000\n",
            "3/3 [==============================] - 0s 5ms/step - loss: 6.4880 - mae: 1.8556 - mse: 6.4880\n",
            "Epoch 151/2000\n",
            "3/3 [==============================] - 0s 6ms/step - loss: 6.3091 - mae: 1.8082 - mse: 6.3091\n",
            "Epoch 152/2000\n",
            "3/3 [==============================] - 0s 8ms/step - loss: 6.5709 - mae: 1.8224 - mse: 6.5709\n",
            "Epoch 153/2000\n",
            "3/3 [==============================] - 0s 5ms/step - loss: 6.3410 - mae: 1.8117 - mse: 6.3410\n",
            "Epoch 154/2000\n",
            "3/3 [==============================] - 0s 5ms/step - loss: 6.1386 - mae: 1.7880 - mse: 6.1386\n",
            "Epoch 155/2000\n",
            "3/3 [==============================] - 0s 5ms/step - loss: 5.9737 - mae: 1.7460 - mse: 5.9737\n",
            "Epoch 156/2000\n",
            "3/3 [==============================] - 0s 5ms/step - loss: 6.4841 - mae: 1.7914 - mse: 6.4841\n",
            "Epoch 157/2000\n",
            "3/3 [==============================] - 0s 9ms/step - loss: 7.0800 - mae: 1.8756 - mse: 7.0800\n",
            "Epoch 158/2000\n",
            "3/3 [==============================] - 0s 5ms/step - loss: 7.2050 - mae: 1.9172 - mse: 7.2050\n",
            "Epoch 159/2000\n",
            "3/3 [==============================] - 0s 5ms/step - loss: 6.5504 - mae: 1.8304 - mse: 6.5504\n",
            "Epoch 160/2000\n",
            "3/3 [==============================] - 0s 5ms/step - loss: 6.4499 - mae: 1.8239 - mse: 6.4499\n",
            "Epoch 161/2000\n",
            "3/3 [==============================] - 0s 5ms/step - loss: 6.5348 - mae: 1.7973 - mse: 6.5348\n",
            "Epoch 162/2000\n",
            "3/3 [==============================] - 0s 5ms/step - loss: 6.1376 - mae: 1.7670 - mse: 6.1376\n",
            "Epoch 163/2000\n",
            "3/3 [==============================] - 0s 5ms/step - loss: 6.5724 - mae: 1.8127 - mse: 6.5724\n",
            "Epoch 164/2000\n",
            "3/3 [==============================] - 0s 5ms/step - loss: 5.8563 - mae: 1.7424 - mse: 5.8563\n",
            "Epoch 165/2000\n",
            "3/3 [==============================] - 0s 5ms/step - loss: 6.5366 - mae: 1.8063 - mse: 6.5366\n",
            "Epoch 166/2000\n",
            "3/3 [==============================] - 0s 5ms/step - loss: 6.6550 - mae: 1.8162 - mse: 6.6550\n",
            "Epoch 167/2000\n",
            "3/3 [==============================] - 0s 5ms/step - loss: 6.3363 - mae: 1.8084 - mse: 6.3363\n",
            "Epoch 168/2000\n",
            "3/3 [==============================] - 0s 5ms/step - loss: 6.4558 - mae: 1.8150 - mse: 6.4558\n",
            "Epoch 169/2000\n",
            "3/3 [==============================] - 0s 5ms/step - loss: 6.1658 - mae: 1.7978 - mse: 6.1658\n",
            "Epoch 170/2000\n",
            "3/3 [==============================] - 0s 5ms/step - loss: 6.3722 - mae: 1.8093 - mse: 6.3722\n",
            "Epoch 171/2000\n",
            "3/3 [==============================] - 0s 4ms/step - loss: 6.4346 - mae: 1.8494 - mse: 6.4346\n",
            "Epoch 172/2000\n",
            "3/3 [==============================] - 0s 5ms/step - loss: 6.0278 - mae: 1.7623 - mse: 6.0278\n",
            "Epoch 173/2000\n",
            "3/3 [==============================] - 0s 5ms/step - loss: 7.1366 - mae: 1.9011 - mse: 7.1366\n",
            "Epoch 174/2000\n",
            "3/3 [==============================] - 0s 5ms/step - loss: 5.8561 - mae: 1.7509 - mse: 5.8561\n",
            "Epoch 175/2000\n",
            "3/3 [==============================] - 0s 6ms/step - loss: 6.9747 - mae: 1.8644 - mse: 6.9747\n",
            "Epoch 176/2000\n",
            "3/3 [==============================] - 0s 5ms/step - loss: 6.6291 - mae: 1.8400 - mse: 6.6291\n",
            "Epoch 177/2000\n",
            "3/3 [==============================] - 0s 5ms/step - loss: 6.7932 - mae: 1.8688 - mse: 6.7932\n",
            "Epoch 178/2000\n",
            "3/3 [==============================] - 0s 6ms/step - loss: 6.6329 - mae: 1.8297 - mse: 6.6329\n",
            "Epoch 179/2000\n",
            "3/3 [==============================] - 0s 6ms/step - loss: 6.4820 - mae: 1.8135 - mse: 6.4820\n",
            "Epoch 180/2000\n",
            "3/3 [==============================] - 0s 5ms/step - loss: 6.2803 - mae: 1.7983 - mse: 6.2803\n",
            "Epoch 181/2000\n",
            "3/3 [==============================] - 0s 5ms/step - loss: 6.0714 - mae: 1.7662 - mse: 6.0714\n",
            "Epoch 182/2000\n",
            "3/3 [==============================] - 0s 5ms/step - loss: 6.1936 - mae: 1.7888 - mse: 6.1936\n",
            "Epoch 183/2000\n",
            "3/3 [==============================] - 0s 5ms/step - loss: 6.7657 - mae: 1.8350 - mse: 6.7657\n",
            "Epoch 184/2000\n",
            "3/3 [==============================] - 0s 5ms/step - loss: 5.8690 - mae: 1.7470 - mse: 5.8690\n",
            "Epoch 185/2000\n",
            "3/3 [==============================] - 0s 5ms/step - loss: 6.0108 - mae: 1.7548 - mse: 6.0108\n",
            "Epoch 186/2000\n",
            "3/3 [==============================] - 0s 5ms/step - loss: 6.3488 - mae: 1.8088 - mse: 6.3488\n",
            "Epoch 187/2000\n",
            "3/3 [==============================] - 0s 5ms/step - loss: 6.2578 - mae: 1.7768 - mse: 6.2578\n",
            "Epoch 188/2000\n",
            "3/3 [==============================] - 0s 6ms/step - loss: 6.4585 - mae: 1.8502 - mse: 6.4585\n",
            "Epoch 189/2000\n",
            "3/3 [==============================] - 0s 5ms/step - loss: 6.5780 - mae: 1.8608 - mse: 6.5780\n",
            "Epoch 190/2000\n",
            "3/3 [==============================] - 0s 6ms/step - loss: 6.5934 - mae: 1.8202 - mse: 6.5934\n",
            "Epoch 191/2000\n",
            "3/3 [==============================] - 0s 6ms/step - loss: 6.2864 - mae: 1.7877 - mse: 6.2864\n",
            "Epoch 192/2000\n",
            "3/3 [==============================] - 0s 9ms/step - loss: 6.3458 - mae: 1.8367 - mse: 6.3458\n"
          ],
          "name": "stdout"
        }
      ]
    },
    {
      "cell_type": "code",
      "metadata": {
        "colab": {
          "base_uri": "https://localhost:8080/"
        },
        "id": "eTkWPAtcLI3J",
        "outputId": "9aa91de6-185d-4d56-9da4-35ad9b03410e"
      },
      "source": [
        "loss, mae, mse = model.evaluate(test_ds, verbose=2)"
      ],
      "execution_count": 34,
      "outputs": [
        {
          "output_type": "stream",
          "text": [
            "WARNING:tensorflow:Layers in a Sequential model should only have a single input tensor, but we receive a <class 'dict'> input: {'Origin': <tf.Tensor 'ExpandDims_5:0' shape=(None, 1) dtype=string>, 'Cylinders': <tf.Tensor 'ExpandDims_1:0' shape=(None, 1) dtype=float64>, 'Displacement': <tf.Tensor 'ExpandDims_2:0' shape=(None, 1) dtype=float64>, 'Horsepower': <tf.Tensor 'ExpandDims_3:0' shape=(None, 1) dtype=float64>, 'Weight': <tf.Tensor 'ExpandDims_6:0' shape=(None, 1) dtype=float64>, 'Acceleration': <tf.Tensor 'ExpandDims:0' shape=(None, 1) dtype=float64>, 'ModelYear': <tf.Tensor 'ExpandDims_4:0' shape=(None, 1) dtype=float64>}\n",
            "Consider rewriting this model with the Functional API.\n",
            "1/1 - 0s - loss: 6.6973 - mae: 2.0204 - mse: 6.6973\n"
          ],
          "name": "stdout"
        }
      ]
    },
    {
      "cell_type": "code",
      "metadata": {
        "id": "r5t12ZFOLI3K"
      },
      "source": [
        "test_labels = test_data[PREDICTOR_FIELD].values"
      ],
      "execution_count": 35,
      "outputs": []
    },
    {
      "cell_type": "code",
      "metadata": {
        "colab": {
          "base_uri": "https://localhost:8080/",
          "height": 337
        },
        "id": "rKdLDELQLI3K",
        "outputId": "0464bf84-7770-4dd4-dc1a-68625ec40b98"
      },
      "source": [
        "test_predictions = model.predict(test_ds).flatten()\n",
        "\n",
        "a = plt.axes(aspect='equal')\n",
        "plt.scatter(test_labels, test_predictions)\n",
        "plt.xlabel('True Values [MPG]')\n",
        "plt.ylabel('Predictions [MPG]')\n",
        "lims = [0, 50]\n",
        "plt.xlim(lims)\n",
        "plt.ylim(lims)\n",
        "_ = plt.plot(lims, lims)\n"
      ],
      "execution_count": 36,
      "outputs": [
        {
          "output_type": "stream",
          "text": [
            "WARNING:tensorflow:Layers in a Sequential model should only have a single input tensor, but we receive a <class 'dict'> input: {'Origin': <tf.Tensor 'ExpandDims_5:0' shape=(None, 1) dtype=string>, 'Cylinders': <tf.Tensor 'ExpandDims_1:0' shape=(None, 1) dtype=float64>, 'Displacement': <tf.Tensor 'ExpandDims_2:0' shape=(None, 1) dtype=float64>, 'Horsepower': <tf.Tensor 'ExpandDims_3:0' shape=(None, 1) dtype=float64>, 'Weight': <tf.Tensor 'ExpandDims_6:0' shape=(None, 1) dtype=float64>, 'Acceleration': <tf.Tensor 'ExpandDims:0' shape=(None, 1) dtype=float64>, 'ModelYear': <tf.Tensor 'ExpandDims_4:0' shape=(None, 1) dtype=float64>}\n",
            "Consider rewriting this model with the Functional API.\n"
          ],
          "name": "stdout"
        },
        {
          "output_type": "display_data",
          "data": {
            "image/png": "[encoded data removed]",
            "text/plain": [
              "<Figure size 432x288 with 1 Axes>"
            ]
          },
          "metadata": {
            "tags": [],
            "needs_background": "light"
          }
        }
      ]
    },
    {
      "cell_type": "markdown",
      "metadata": {
        "id": "lK8hI6p_LI3K"
      },
      "source": [
        "### Show Model Prediction Output"
      ]
    },
    {
      "cell_type": "code",
      "metadata": {
        "id": "SM5wZnfALI3K"
      },
      "source": [
        "model_pred_outputs = {\n",
        "    \"pred\": test_predictions,\n",
        "    \"actual_value\": test_labels,\n",
        "}\n",
        "model_output_df = pd.DataFrame(model_pred_outputs)"
      ],
      "execution_count": 37,
      "outputs": []
    },
    {
      "cell_type": "code",
      "metadata": {
        "colab": {
          "base_uri": "https://localhost:8080/",
          "height": 0
        },
        "id": "QEfiwLiILI3K",
        "outputId": "e7f738f4-67b9-4f0a-ffc7-381dbe999552"
      },
      "source": [
        "model_output_df.head()"
      ],
      "execution_count": 38,
      "outputs": [
        {
          "output_type": "execute_result",
          "data": {
            "text/html": [
              "<div>\n",
              "<style scoped>\n",
              "    .dataframe tbody tr th:only-of-type {\n",
              "        vertical-align: middle;\n",
              "    }\n",
              "\n",
              "    .dataframe tbody tr th {\n",
              "        vertical-align: top;\n",
              "    }\n",
              "\n",
              "    .dataframe thead th {\n",
              "        text-align: right;\n",
              "    }\n",
              "</style>\n",
              "<table border=\"1\" class=\"dataframe\">\n",
              "  <thead>\n",
              "    <tr style=\"text-align: right;\">\n",
              "      <th></th>\n",
              "      <th>pred</th>\n",
              "      <th>actual_value</th>\n",
              "    </tr>\n",
              "  </thead>\n",
              "  <tbody>\n",
              "    <tr>\n",
              "      <th>0</th>\n",
              "      <td>14.070079</td>\n",
              "      <td>15.0</td>\n",
              "    </tr>\n",
              "    <tr>\n",
              "      <th>1</th>\n",
              "      <td>26.321848</td>\n",
              "      <td>10.0</td>\n",
              "    </tr>\n",
              "    <tr>\n",
              "      <th>2</th>\n",
              "      <td>21.858229</td>\n",
              "      <td>9.0</td>\n",
              "    </tr>\n",
              "    <tr>\n",
              "      <th>3</th>\n",
              "      <td>15.326762</td>\n",
              "      <td>25.0</td>\n",
              "    </tr>\n",
              "    <tr>\n",
              "      <th>4</th>\n",
              "      <td>12.397350</td>\n",
              "      <td>19.0</td>\n",
              "    </tr>\n",
              "  </tbody>\n",
              "</table>\n",
              "</div>"
            ],
            "text/plain": [
              "        pred  actual_value\n",
              "0  14.070079          15.0\n",
              "1  26.321848          10.0\n",
              "2  21.858229           9.0\n",
              "3  15.326762          25.0\n",
              "4  12.397350          19.0"
            ]
          },
          "metadata": {
            "tags": []
          },
          "execution_count": 38
        }
      ]
    },
    {
      "cell_type": "markdown",
      "metadata": {
        "id": "wQ-DGxRQLI3K"
      },
      "source": [
        "## 2. Model Evaluation "
      ]
    },
    {
      "cell_type": "markdown",
      "metadata": {
        "id": "jDuPjMKjLI3L"
      },
      "source": [
        "### Preparing Regression Output for Binary Scoring Model Evaluation"
      ]
    },
    {
      "cell_type": "markdown",
      "metadata": {
        "id": "MQBWInUkLI3L"
      },
      "source": [
        "- Create binary label for mileage prediction over 25 miles per gallon\n",
        "    - 0 = Not Fuel Efficient, < 25 MPG\n",
        "    - 1 = Fuel Efficient >= 25 MPG"
      ]
    },
    {
      "cell_type": "code",
      "metadata": {
        "colab": {
          "base_uri": "https://localhost:8080/",
          "height": 0
        },
        "id": "4_tuyabmLI3L",
        "outputId": "d18565cc-5068-4a88-c520-d5b74d7d31c9"
      },
      "source": [
        "# Convert Regression Output to binary classification output\n",
        "model_output_df.head()"
      ],
      "execution_count": 39,
      "outputs": [
        {
          "output_type": "execute_result",
          "data": {
            "text/html": [
              "<div>\n",
              "<style scoped>\n",
              "    .dataframe tbody tr th:only-of-type {\n",
              "        vertical-align: middle;\n",
              "    }\n",
              "\n",
              "    .dataframe tbody tr th {\n",
              "        vertical-align: top;\n",
              "    }\n",
              "\n",
              "    .dataframe thead th {\n",
              "        text-align: right;\n",
              "    }\n",
              "</style>\n",
              "<table border=\"1\" class=\"dataframe\">\n",
              "  <thead>\n",
              "    <tr style=\"text-align: right;\">\n",
              "      <th></th>\n",
              "      <th>pred</th>\n",
              "      <th>actual_value</th>\n",
              "    </tr>\n",
              "  </thead>\n",
              "  <tbody>\n",
              "    <tr>\n",
              "      <th>0</th>\n",
              "      <td>14.070079</td>\n",
              "      <td>15.0</td>\n",
              "    </tr>\n",
              "    <tr>\n",
              "      <th>1</th>\n",
              "      <td>26.321848</td>\n",
              "      <td>10.0</td>\n",
              "    </tr>\n",
              "    <tr>\n",
              "      <th>2</th>\n",
              "      <td>21.858229</td>\n",
              "      <td>9.0</td>\n",
              "    </tr>\n",
              "    <tr>\n",
              "      <th>3</th>\n",
              "      <td>15.326762</td>\n",
              "      <td>25.0</td>\n",
              "    </tr>\n",
              "    <tr>\n",
              "      <th>4</th>\n",
              "      <td>12.397350</td>\n",
              "      <td>19.0</td>\n",
              "    </tr>\n",
              "  </tbody>\n",
              "</table>\n",
              "</div>"
            ],
            "text/plain": [
              "        pred  actual_value\n",
              "0  14.070079          15.0\n",
              "1  26.321848          10.0\n",
              "2  21.858229           9.0\n",
              "3  15.326762          25.0\n",
              "4  12.397350          19.0"
            ]
          },
          "metadata": {
            "tags": []
          },
          "execution_count": 39
        }
      ]
    },
    {
      "cell_type": "code",
      "metadata": {
        "id": "wZT3UdksLI3L"
      },
      "source": [
        "def convert_to_binary(df, pred_field, actual_field):\n",
        "    df['score'] = df[pred_field].apply(lambda x: 1 if x>=25 else 0 )\n",
        "    df['label_value'] = df[actual_field].apply(lambda x: 1 if x>=25 else 0)\n",
        "    return df"
      ],
      "execution_count": 40,
      "outputs": []
    },
    {
      "cell_type": "code",
      "metadata": {
        "colab": {
          "base_uri": "https://localhost:8080/",
          "height": 0
        },
        "id": "XRjVBsrJLI3L",
        "outputId": "fbec9c68-bf57-402e-aee0-1bb5eb2a7d3b"
      },
      "source": [
        "binary_df = convert_to_binary(model_output_df, 'pred', 'actual_value')\n",
        "binary_df.head()"
      ],
      "execution_count": 41,
      "outputs": [
        {
          "output_type": "execute_result",
          "data": {
            "text/html": [
              "<div>\n",
              "<style scoped>\n",
              "    .dataframe tbody tr th:only-of-type {\n",
              "        vertical-align: middle;\n",
              "    }\n",
              "\n",
              "    .dataframe tbody tr th {\n",
              "        vertical-align: top;\n",
              "    }\n",
              "\n",
              "    .dataframe thead th {\n",
              "        text-align: right;\n",
              "    }\n",
              "</style>\n",
              "<table border=\"1\" class=\"dataframe\">\n",
              "  <thead>\n",
              "    <tr style=\"text-align: right;\">\n",
              "      <th></th>\n",
              "      <th>pred</th>\n",
              "      <th>actual_value</th>\n",
              "      <th>score</th>\n",
              "      <th>label_value</th>\n",
              "    </tr>\n",
              "  </thead>\n",
              "  <tbody>\n",
              "    <tr>\n",
              "      <th>0</th>\n",
              "      <td>14.070079</td>\n",
              "      <td>15.0</td>\n",
              "      <td>0</td>\n",
              "      <td>0</td>\n",
              "    </tr>\n",
              "    <tr>\n",
              "      <th>1</th>\n",
              "      <td>26.321848</td>\n",
              "      <td>10.0</td>\n",
              "      <td>1</td>\n",
              "      <td>0</td>\n",
              "    </tr>\n",
              "    <tr>\n",
              "      <th>2</th>\n",
              "      <td>21.858229</td>\n",
              "      <td>9.0</td>\n",
              "      <td>0</td>\n",
              "      <td>0</td>\n",
              "    </tr>\n",
              "    <tr>\n",
              "      <th>3</th>\n",
              "      <td>15.326762</td>\n",
              "      <td>25.0</td>\n",
              "      <td>0</td>\n",
              "      <td>1</td>\n",
              "    </tr>\n",
              "    <tr>\n",
              "      <th>4</th>\n",
              "      <td>12.397350</td>\n",
              "      <td>19.0</td>\n",
              "      <td>0</td>\n",
              "      <td>0</td>\n",
              "    </tr>\n",
              "  </tbody>\n",
              "</table>\n",
              "</div>"
            ],
            "text/plain": [
              "        pred  actual_value  score  label_value\n",
              "0  14.070079          15.0      0            0\n",
              "1  26.321848          10.0      1            0\n",
              "2  21.858229           9.0      0            0\n",
              "3  15.326762          25.0      0            1\n",
              "4  12.397350          19.0      0            0"
            ]
          },
          "metadata": {
            "tags": []
          },
          "execution_count": 41
        }
      ]
    },
    {
      "cell_type": "markdown",
      "metadata": {
        "id": "54O1oIcjLI3L"
      },
      "source": [
        "### Classification Common Model Evaluation Metrics"
      ]
    },
    {
      "cell_type": "code",
      "metadata": {
        "id": "N-F4ExXCLI3M"
      },
      "source": [
        "from sklearn.metrics import brier_score_loss, accuracy_score, f1_score, classification_report, roc_auc_score, roc_curve"
      ],
      "execution_count": 42,
      "outputs": []
    },
    {
      "cell_type": "code",
      "metadata": {
        "colab": {
          "base_uri": "https://localhost:8080/"
        },
        "id": "GTcTOPNtLI3M",
        "outputId": "ac0474e4-815d-4542-e37e-b49b8eee7c69"
      },
      "source": [
        "print(classification_report(binary_df['label_value'], binary_df['score']))"
      ],
      "execution_count": 43,
      "outputs": [
        {
          "output_type": "stream",
          "text": [
            "              precision    recall  f1-score   support\n",
            "\n",
            "           0       0.38      0.37      0.37        41\n",
            "           1       0.32      0.32      0.32        37\n",
            "\n",
            "    accuracy                           0.35        78\n",
            "   macro avg       0.35      0.35      0.35        78\n",
            "weighted avg       0.35      0.35      0.35        78\n",
            "\n"
          ],
          "name": "stdout"
        }
      ]
    },
    {
      "cell_type": "code",
      "metadata": {
        "colab": {
          "base_uri": "https://localhost:8080/"
        },
        "id": "LwGco3VALI3M",
        "outputId": "8180de3c-6f5e-4428-ec34-975ef7ac17c7"
      },
      "source": [
        "#F1\n",
        "f1_score(binary_df['label_value'], binary_df['score'], average='weighted')"
      ],
      "execution_count": 44,
      "outputs": [
        {
          "output_type": "execute_result",
          "data": {
            "text/plain": [
              "0.34647673314339983"
            ]
          },
          "metadata": {
            "tags": []
          },
          "execution_count": 44
        }
      ]
    },
    {
      "cell_type": "code",
      "metadata": {
        "colab": {
          "base_uri": "https://localhost:8080/"
        },
        "id": "QcyRzQmuLI3M",
        "outputId": "39a9af4c-c57b-4704-a24e-af8156f82220"
      },
      "source": [
        "#AUC - area under the ROC curve\n",
        "roc_auc_score(binary_df['label_value'], binary_df['score'])"
      ],
      "execution_count": 45,
      "outputs": [
        {
          "output_type": "execute_result",
          "data": {
            "text/plain": [
              "0.34508899143045485"
            ]
          },
          "metadata": {
            "tags": []
          },
          "execution_count": 45
        }
      ]
    },
    {
      "cell_type": "markdown",
      "metadata": {
        "id": "llhW1tzPLI3M"
      },
      "source": [
        "### Brier Score"
      ]
    },
    {
      "cell_type": "code",
      "metadata": {
        "colab": {
          "base_uri": "https://localhost:8080/"
        },
        "id": "c6dpcofvLI3M",
        "outputId": "fdcaa6d1-9f2c-4464-c802-aa76617f910d"
      },
      "source": [
        "random_predictions = np.random.random((100))\n",
        "random_predictions"
      ],
      "execution_count": 46,
      "outputs": [
        {
          "output_type": "execute_result",
          "data": {
            "text/plain": [
              "array([4.01624691e-01, 4.36992398e-01, 2.80045957e-02, 1.93521454e-01,\n",
              "       9.58589659e-01, 4.68973314e-01, 8.98265975e-01, 2.35431784e-01,\n",
              "       2.34791539e-01, 2.16673154e-02, 6.69589102e-01, 2.09052046e-01,\n",
              "       6.59760240e-01, 5.54871758e-01, 1.24272987e-01, 9.27902331e-01,\n",
              "       9.12174112e-01, 6.21412418e-01, 1.92238008e-01, 1.16715283e-02,\n",
              "       6.30595690e-01, 2.54114506e-01, 7.49261602e-01, 5.51748117e-01,\n",
              "       2.83383983e-01, 5.08161796e-01, 8.70139645e-01, 1.97341500e-01,\n",
              "       2.82622569e-01, 4.15462262e-01, 2.36080940e-01, 4.29262448e-01,\n",
              "       5.58631598e-01, 2.58159351e-01, 6.69608819e-01, 4.21501074e-01,\n",
              "       4.15457009e-01, 1.95135963e-01, 8.57112052e-01, 2.14886367e-01,\n",
              "       4.01645771e-01, 9.04554646e-01, 3.09117063e-02, 7.25879837e-01,\n",
              "       4.36304676e-01, 3.64381474e-01, 2.07432778e-01, 8.45982292e-01,\n",
              "       5.52623414e-01, 6.24201245e-01, 5.28436356e-01, 1.15006058e-01,\n",
              "       2.60130800e-01, 8.58440042e-01, 9.85763946e-01, 1.85141241e-01,\n",
              "       2.82888726e-01, 7.60341119e-01, 3.28568125e-01, 4.88058230e-02,\n",
              "       5.33336050e-01, 3.06116149e-02, 1.15492191e-01, 9.38280369e-01,\n",
              "       6.72526773e-01, 5.81938719e-01, 4.17650784e-01, 9.20064609e-01,\n",
              "       2.09920575e-01, 8.64213061e-01, 2.56639923e-01, 6.41465498e-01,\n",
              "       9.35563049e-01, 7.00847755e-01, 7.79699811e-01, 5.51590947e-01,\n",
              "       9.67849833e-01, 3.68297289e-01, 8.15165442e-01, 8.00763445e-01,\n",
              "       4.32877807e-01, 3.72503643e-01, 2.36487405e-01, 5.50775719e-01,\n",
              "       5.31828217e-01, 7.59012735e-01, 8.37591278e-01, 3.97123343e-03,\n",
              "       4.21848214e-01, 4.92090778e-01, 1.76253205e-01, 9.68366849e-02,\n",
              "       5.25489158e-01, 6.01790335e-01, 9.82737400e-01, 2.34784302e-01,\n",
              "       5.03841428e-01, 2.51693231e-04, 9.77112672e-01, 2.87807739e-01])"
            ]
          },
          "metadata": {
            "tags": []
          },
          "execution_count": 46
        }
      ]
    },
    {
      "cell_type": "code",
      "metadata": {
        "colab": {
          "base_uri": "https://localhost:8080/"
        },
        "id": "1BHDyC3ALI3N",
        "outputId": "ea9fbb3c-f1f4-425d-d343-b0c0184e8cdd"
      },
      "source": [
        "random_labels = np.random.choice([0, 1], 100)\n",
        "random_labels"
      ],
      "execution_count": 47,
      "outputs": [
        {
          "output_type": "execute_result",
          "data": {
            "text/plain": [
              "array([0, 0, 1, 0, 1, 1, 0, 1, 1, 1, 0, 0, 0, 1, 1, 1, 1, 0, 0, 0, 0, 1,\n",
              "       1, 1, 1, 0, 1, 0, 1, 1, 0, 0, 0, 1, 0, 1, 1, 0, 1, 1, 0, 1, 1, 1,\n",
              "       0, 1, 1, 0, 1, 0, 1, 1, 0, 1, 0, 1, 1, 0, 0, 1, 1, 1, 1, 0, 1, 1,\n",
              "       1, 1, 1, 1, 1, 1, 0, 0, 0, 0, 0, 0, 0, 0, 1, 0, 0, 1, 0, 1, 0, 1,\n",
              "       1, 0, 0, 0, 1, 1, 0, 0, 1, 0, 1, 0])"
            ]
          },
          "metadata": {
            "tags": []
          },
          "execution_count": 47
        }
      ]
    },
    {
      "cell_type": "markdown",
      "metadata": {
        "id": "rLL_fJiaLI3N"
      },
      "source": [
        "- Convert probability to binary predictions"
      ]
    },
    {
      "cell_type": "code",
      "metadata": {
        "id": "HsFupRDVLI3N"
      },
      "source": [
        "probability_prediction_df = pd.DataFrame({\"prob_prediction\": random_predictions,\n",
        "                \"binary_prediction\": np.array([ 1 if abs(x)>=0.5 else 0 for x in random_predictions], dtype=int),\n",
        "                                \"label\": random_labels})"
      ],
      "execution_count": 48,
      "outputs": []
    },
    {
      "cell_type": "code",
      "metadata": {
        "colab": {
          "base_uri": "https://localhost:8080/",
          "height": 0
        },
        "id": "Jv1BqgvSLI3N",
        "outputId": "2e7b3f05-67ee-4373-beb4-96cc7b995a2d"
      },
      "source": [
        "probability_prediction_df.head()"
      ],
      "execution_count": 49,
      "outputs": [
        {
          "output_type": "execute_result",
          "data": {
            "text/html": [
              "<div>\n",
              "<style scoped>\n",
              "    .dataframe tbody tr th:only-of-type {\n",
              "        vertical-align: middle;\n",
              "    }\n",
              "\n",
              "    .dataframe tbody tr th {\n",
              "        vertical-align: top;\n",
              "    }\n",
              "\n",
              "    .dataframe thead th {\n",
              "        text-align: right;\n",
              "    }\n",
              "</style>\n",
              "<table border=\"1\" class=\"dataframe\">\n",
              "  <thead>\n",
              "    <tr style=\"text-align: right;\">\n",
              "      <th></th>\n",
              "      <th>prob_prediction</th>\n",
              "      <th>binary_prediction</th>\n",
              "      <th>label</th>\n",
              "    </tr>\n",
              "  </thead>\n",
              "  <tbody>\n",
              "    <tr>\n",
              "      <th>0</th>\n",
              "      <td>0.401625</td>\n",
              "      <td>0</td>\n",
              "      <td>0</td>\n",
              "    </tr>\n",
              "    <tr>\n",
              "      <th>1</th>\n",
              "      <td>0.436992</td>\n",
              "      <td>0</td>\n",
              "      <td>0</td>\n",
              "    </tr>\n",
              "    <tr>\n",
              "      <th>2</th>\n",
              "      <td>0.028005</td>\n",
              "      <td>0</td>\n",
              "      <td>1</td>\n",
              "    </tr>\n",
              "    <tr>\n",
              "      <th>3</th>\n",
              "      <td>0.193521</td>\n",
              "      <td>0</td>\n",
              "      <td>0</td>\n",
              "    </tr>\n",
              "    <tr>\n",
              "      <th>4</th>\n",
              "      <td>0.958590</td>\n",
              "      <td>1</td>\n",
              "      <td>1</td>\n",
              "    </tr>\n",
              "  </tbody>\n",
              "</table>\n",
              "</div>"
            ],
            "text/plain": [
              "   prob_prediction  binary_prediction  label\n",
              "0         0.401625                  0      0\n",
              "1         0.436992                  0      0\n",
              "2         0.028005                  0      1\n",
              "3         0.193521                  0      0\n",
              "4         0.958590                  1      1"
            ]
          },
          "metadata": {
            "tags": []
          },
          "execution_count": 49
        }
      ]
    },
    {
      "cell_type": "code",
      "metadata": {
        "id": "OOfjvmpPLI3N"
      },
      "source": [
        "y_true = probability_prediction_df['label'].values \n",
        "y_pred = probability_prediction_df['binary_prediction'].values"
      ],
      "execution_count": 50,
      "outputs": []
    },
    {
      "cell_type": "code",
      "metadata": {
        "colab": {
          "base_uri": "https://localhost:8080/"
        },
        "id": "h5OH5clfLI3N",
        "outputId": "e21211f9-99f7-4ca4-9bd6-b0a300ca6d70"
      },
      "source": [
        "acc = accuracy_score(y_true, y_pred)\n",
        "print(acc)"
      ],
      "execution_count": 51,
      "outputs": [
        {
          "output_type": "stream",
          "text": [
            "0.48\n"
          ],
          "name": "stdout"
        }
      ]
    },
    {
      "cell_type": "code",
      "metadata": {
        "colab": {
          "base_uri": "https://localhost:8080/"
        },
        "id": "vZ5SGEtQLI3O",
        "outputId": "0c88fc25-54e1-464d-f15e-ba0468c50599"
      },
      "source": [
        "bs_loss = brier_score_loss(y_true, probability_prediction_df['prob_prediction'])\n",
        "print(bs_loss)"
      ],
      "execution_count": 52,
      "outputs": [
        {
          "output_type": "stream",
          "text": [
            "0.35763331289743056\n"
          ],
          "name": "stdout"
        }
      ]
    },
    {
      "cell_type": "markdown",
      "metadata": {
        "id": "7B6OZm-PLI3O"
      },
      "source": [
        "### Misclassified"
      ]
    },
    {
      "cell_type": "code",
      "metadata": {
        "id": "B9Enb_kFLI3O"
      },
      "source": [
        "missclassified_df = probability_prediction_df[probability_prediction_df['binary_prediction']!=probability_prediction_df['label']]"
      ],
      "execution_count": 53,
      "outputs": []
    },
    {
      "cell_type": "code",
      "metadata": {
        "colab": {
          "base_uri": "https://localhost:8080/",
          "height": 0
        },
        "id": "gCrL3D0oLI3O",
        "outputId": "bda66d1b-930d-4d47-dbf5-5d0bb37cb7a5"
      },
      "source": [
        "missclassified_df['prob_prediction'].plot(kind='hist')"
      ],
      "execution_count": 54,
      "outputs": [
        {
          "output_type": "execute_result",
          "data": {
            "text/plain": [
              "<matplotlib.axes._subplots.AxesSubplot at 0x7f4b78635828>"
            ]
          },
          "metadata": {
            "tags": []
          },
          "execution_count": 54
        },
        {
          "output_type": "display_data",
          "data": {
            "image/png": "[encoded data removed]",
            "text/plain": [
              "<Figure size 432x288 with 1 Axes>"
            ]
          },
          "metadata": {
            "tags": [],
            "needs_background": "light"
          }
        }
      ]
    },
    {
      "cell_type": "markdown",
      "metadata": {
        "id": "L1a4ki1oLI3O"
      },
      "source": [
        "## 3. Demographic Group Bias Analysis"
      ]
    },
    {
      "cell_type": "markdown",
      "metadata": {
        "id": "QnMEukzfLI3O"
      },
      "source": [
        "- Select groups to analyze\n",
        "- Prepare data \n",
        "- Analyze groups\n"
      ]
    },
    {
      "cell_type": "markdown",
      "metadata": {
        "id": "svNXEGDfLI3O"
      },
      "source": [
        "### Select groups to analyze\n",
        "- Selected 'origin' field which gives the country of origin for the car."
      ]
    },
    {
      "cell_type": "code",
      "metadata": {
        "id": "L8KhNNj-LI3P"
      },
      "source": [
        "#combine binary df with original test df, order was not shuffled so can do"
      ],
      "execution_count": 55,
      "outputs": []
    },
    {
      "cell_type": "code",
      "metadata": {
        "id": "P8NowoZyLI3P"
      },
      "source": [
        "merged_binary_df = binary_df.assign(origin = test_data['Origin'].values)"
      ],
      "execution_count": 56,
      "outputs": []
    },
    {
      "cell_type": "code",
      "metadata": {
        "colab": {
          "base_uri": "https://localhost:8080/",
          "height": 0
        },
        "id": "8VYZMi6ALI3P",
        "outputId": "0f04830a-0c04-44e9-c6f1-4d72bd427753"
      },
      "source": [
        "merged_binary_df.head()"
      ],
      "execution_count": 57,
      "outputs": [
        {
          "output_type": "execute_result",
          "data": {
            "text/html": [
              "<div>\n",
              "<style scoped>\n",
              "    .dataframe tbody tr th:only-of-type {\n",
              "        vertical-align: middle;\n",
              "    }\n",
              "\n",
              "    .dataframe tbody tr th {\n",
              "        vertical-align: top;\n",
              "    }\n",
              "\n",
              "    .dataframe thead th {\n",
              "        text-align: right;\n",
              "    }\n",
              "</style>\n",
              "<table border=\"1\" class=\"dataframe\">\n",
              "  <thead>\n",
              "    <tr style=\"text-align: right;\">\n",
              "      <th></th>\n",
              "      <th>pred</th>\n",
              "      <th>actual_value</th>\n",
              "      <th>score</th>\n",
              "      <th>label_value</th>\n",
              "      <th>origin</th>\n",
              "    </tr>\n",
              "  </thead>\n",
              "  <tbody>\n",
              "    <tr>\n",
              "      <th>0</th>\n",
              "      <td>14.070079</td>\n",
              "      <td>15.0</td>\n",
              "      <td>0</td>\n",
              "      <td>0</td>\n",
              "      <td>USA</td>\n",
              "    </tr>\n",
              "    <tr>\n",
              "      <th>1</th>\n",
              "      <td>26.321848</td>\n",
              "      <td>10.0</td>\n",
              "      <td>1</td>\n",
              "      <td>0</td>\n",
              "      <td>USA</td>\n",
              "    </tr>\n",
              "    <tr>\n",
              "      <th>2</th>\n",
              "      <td>21.858229</td>\n",
              "      <td>9.0</td>\n",
              "      <td>0</td>\n",
              "      <td>0</td>\n",
              "      <td>USA</td>\n",
              "    </tr>\n",
              "    <tr>\n",
              "      <th>3</th>\n",
              "      <td>15.326762</td>\n",
              "      <td>25.0</td>\n",
              "      <td>0</td>\n",
              "      <td>1</td>\n",
              "      <td>Japan</td>\n",
              "    </tr>\n",
              "    <tr>\n",
              "      <th>4</th>\n",
              "      <td>12.397350</td>\n",
              "      <td>19.0</td>\n",
              "      <td>0</td>\n",
              "      <td>0</td>\n",
              "      <td>USA</td>\n",
              "    </tr>\n",
              "  </tbody>\n",
              "</table>\n",
              "</div>"
            ],
            "text/plain": [
              "        pred  actual_value  score  label_value origin\n",
              "0  14.070079          15.0      0            0    USA\n",
              "1  26.321848          10.0      1            0    USA\n",
              "2  21.858229           9.0      0            0    USA\n",
              "3  15.326762          25.0      0            1  Japan\n",
              "4  12.397350          19.0      0            0    USA"
            ]
          },
          "metadata": {
            "tags": []
          },
          "execution_count": 57
        }
      ]
    },
    {
      "cell_type": "markdown",
      "metadata": {
        "id": "71OW5bACLI3P"
      },
      "source": [
        "### Prepare Data"
      ]
    },
    {
      "cell_type": "code",
      "metadata": {
        "colab": {
          "base_uri": "https://localhost:8080/",
          "height": 368
        },
        "id": "uQFuL2eILI3P",
        "outputId": "9bfcd003-3d4c-4b5f-d895-a3e357b9b179"
      },
      "source": [
        "# Aequitas\n",
        "from aequitas.preprocessing import preprocess_input_df\n",
        "from aequitas.group import Group\n",
        "from aequitas.plotting import Plot\n",
        "from aequitas.bias import Bias\n",
        "from aequitas.fairness import Fairness"
      ],
      "execution_count": 58,
      "outputs": [
        {
          "output_type": "error",
          "ename": "ModuleNotFoundError",
          "evalue": "ignored",
          "traceback": [
            "\u001b[0;31m---------------------------------------------------------------------------\u001b[0m",
            "\u001b[0;31mModuleNotFoundError\u001b[0m                       Traceback (most recent call last)",
            "\u001b[0;32m<ipython-input-58-9b39dcefe8ac>\u001b[0m in \u001b[0;36m<module>\u001b[0;34m()\u001b[0m\n\u001b[1;32m      1\u001b[0m \u001b[0;31m# Aequitas\u001b[0m\u001b[0;34m\u001b[0m\u001b[0;34m\u001b[0m\u001b[0;34m\u001b[0m\u001b[0m\n\u001b[0;32m----> 2\u001b[0;31m \u001b[0;32mfrom\u001b[0m \u001b[0maequitas\u001b[0m\u001b[0;34m.\u001b[0m\u001b[0mpreprocessing\u001b[0m \u001b[0;32mimport\u001b[0m \u001b[0mpreprocess_input_df\u001b[0m\u001b[0;34m\u001b[0m\u001b[0;34m\u001b[0m\u001b[0m\n\u001b[0m\u001b[1;32m      3\u001b[0m \u001b[0;32mfrom\u001b[0m \u001b[0maequitas\u001b[0m\u001b[0;34m.\u001b[0m\u001b[0mgroup\u001b[0m \u001b[0;32mimport\u001b[0m \u001b[0mGroup\u001b[0m\u001b[0;34m\u001b[0m\u001b[0;34m\u001b[0m\u001b[0m\n\u001b[1;32m      4\u001b[0m \u001b[0;32mfrom\u001b[0m \u001b[0maequitas\u001b[0m\u001b[0;34m.\u001b[0m\u001b[0mplotting\u001b[0m \u001b[0;32mimport\u001b[0m \u001b[0mPlot\u001b[0m\u001b[0;34m\u001b[0m\u001b[0;34m\u001b[0m\u001b[0m\n\u001b[1;32m      5\u001b[0m \u001b[0;32mfrom\u001b[0m \u001b[0maequitas\u001b[0m\u001b[0;34m.\u001b[0m\u001b[0mbias\u001b[0m \u001b[0;32mimport\u001b[0m \u001b[0mBias\u001b[0m\u001b[0;34m\u001b[0m\u001b[0;34m\u001b[0m\u001b[0m\n",
            "\u001b[0;31mModuleNotFoundError\u001b[0m: No module named 'aequitas'",
            "",
            "\u001b[0;31m---------------------------------------------------------------------------\u001b[0;32m\nNOTE: If your import is failing due to a missing package, you can\nmanually install dependencies using either !pip or !apt.\n\nTo view examples of installing some common dependencies, click the\n\"Open Examples\" button below.\n\u001b[0;31m---------------------------------------------------------------------------\u001b[0m\n"
          ]
        }
      ]
    },
    {
      "cell_type": "code",
      "metadata": {
        "id": "dIRLA310LI3P"
      },
      "source": [
        "ae_df, _ = preprocess_input_df(merged_binary_df)\n",
        "g = Group()\n",
        "xtab, _ = g.get_crosstabs(ae_df)\n",
        "absolute_metrics = g.list_absolute_metrics(xtab)\n",
        "clean_xtab = xtab.fillna(-1)\n",
        "aqp = Plot()\n",
        "b = Bias()"
      ],
      "execution_count": null,
      "outputs": []
    },
    {
      "cell_type": "markdown",
      "metadata": {
        "id": "jIbUdWeELI3P"
      },
      "source": [
        "### Analyze Groups"
      ]
    },
    {
      "cell_type": "code",
      "metadata": {
        "id": "q-fPjaXyLI3Q"
      },
      "source": [
        "tpr = aqp.plot_group_metric(clean_xtab, 'tpr', min_group_size=0.05)"
      ],
      "execution_count": null,
      "outputs": []
    },
    {
      "cell_type": "code",
      "metadata": {
        "id": "rVyfE1XzLI3Q"
      },
      "source": [
        "fpr = aqp.plot_group_metric(clean_xtab, 'fpr', min_group_size=0.05)"
      ],
      "execution_count": null,
      "outputs": []
    },
    {
      "cell_type": "code",
      "metadata": {
        "id": "N4pRASPvLI3Q"
      },
      "source": [
        "tnr = aqp.plot_group_metric(clean_xtab, 'tnr', min_group_size=0.05)"
      ],
      "execution_count": null,
      "outputs": []
    },
    {
      "cell_type": "code",
      "metadata": {
        "id": "B_yXjJN4LI3Q"
      },
      "source": [
        "# Bias Report - http://aequitas.dssg.io/audit/eg1cp7ku/adult_rf_binary/"
      ],
      "execution_count": null,
      "outputs": []
    },
    {
      "cell_type": "markdown",
      "metadata": {
        "id": "FnLfOc7yLI3Q"
      },
      "source": [
        "## 4. Train Uncertainty Estimation Model with TF Probability"
      ]
    },
    {
      "cell_type": "markdown",
      "metadata": {
        "id": "Fuph34qVLI3Q"
      },
      "source": [
        "### Instructions\n",
        "- Using MPG model from earlier, create uncertainty estimation model with TF Probability.\n",
        "- In particular, we will focus on building a model that accounts for Aleatoric Uncertainty."
      ]
    },
    {
      "cell_type": "code",
      "metadata": {
        "id": "K2tOiIB_LI3Q"
      },
      "source": [
        "import tensorflow_probability as tfp"
      ],
      "execution_count": null,
      "outputs": []
    },
    {
      "cell_type": "markdown",
      "metadata": {
        "id": "R5HgWLI6LI3R"
      },
      "source": [
        "### Aleatoric Uncertainty\n",
        "- Known Unknowns\n",
        "- 2 Main Changes to our network \n",
        "    - Add a second unit to the last dense layer before passing it to Tensorflow Probability layer to model for the predictor y and the heteroscedasticity or unequal scattering of data\n",
        "    - DistributionLambda distribution mean and std\n",
        "- DistributionLambda is a special Keras layer that uses a Python lambda to construct a distribution based on the layer inputs and the output of the final layer of the model is passed into the loss function. Lastly. this model will return a distribution for both mean and standard deviation."
      ]
    },
    {
      "cell_type": "code",
      "metadata": {
        "id": "yGeJcm0RLI3R"
      },
      "source": [
        "train_label_stats = train_labels.describe()\n",
        "train_label_stats"
      ],
      "execution_count": null,
      "outputs": []
    },
    {
      "cell_type": "code",
      "metadata": {
        "id": "w7h2rUBULI3R"
      },
      "source": [
        "def build_seq_prob_model(feature_layer):\n",
        "    model = tf.keras.Sequential([\n",
        "        feature_layer,\n",
        "        tf.keras.layers.Dense(150, activation='relu'),\n",
        "        tf.keras.layers.Dense(75, activation='relu'),\n",
        "        tf.keras.layers.Dense(1 + 1),\n",
        "        tfp.layers.DistributionLambda(  \n",
        "            lambda t:tfp.distributions.Normal(\n",
        "                loc=t[..., :1],\n",
        "                scale=1e-3 + tf.math.softplus(0.1 * t[...,1:])\n",
        "\n",
        "            )\n",
        "         )\n",
        "  \n",
        "        \n",
        "        \n",
        "    ])\n",
        "    return model\n",
        "\n",
        "def build_prob_model(train_ds,   feature_layer,  epochs=5, loss_metric='mse'):\n",
        "    model = build_seq_prob_model(feature_layer)\n",
        "    negloglik = lambda y, rv_y: -rv_y.log_prob(y)\n",
        "    loss = negloglik\n",
        "    model.compile(tf.optimizers.Adam(learning_rate=0.05), loss=loss, metrics=[loss_metric])\n",
        "    history = model.fit(train_ds, \n",
        "                        epochs=epochs)\n",
        "    return model, history"
      ],
      "execution_count": null,
      "outputs": []
    },
    {
      "cell_type": "markdown",
      "metadata": {
        "id": "S5e9g__vLI3R"
      },
      "source": [
        "### Train Probability Model"
      ]
    },
    {
      "cell_type": "code",
      "metadata": {
        "id": "175oKrk9LI3R"
      },
      "source": [
        "prob_model, history = build_prob_model(train_ds, dense_feature_layer,  epochs=500)"
      ],
      "execution_count": null,
      "outputs": []
    },
    {
      "cell_type": "markdown",
      "metadata": {
        "id": "t6S88olYLI3R"
      },
      "source": [
        "### Extract Mean and Standard Deviation Output"
      ]
    },
    {
      "cell_type": "code",
      "metadata": {
        "id": "Wm4ZMuNKLI3S"
      },
      "source": [
        "feature_column_list = categorical_feature_list + numerical_feature_list\n",
        "x_tst = dict(test_data[feature_column_list])\n",
        "yhat = prob_model(x_tst)\n",
        "prob_preds = prob_model.predict(test_ds)\n",
        "m = yhat.mean()\n",
        "s = yhat.stddev()"
      ],
      "execution_count": null,
      "outputs": []
    },
    {
      "cell_type": "code",
      "metadata": {
        "id": "zE--n6VnLI3S"
      },
      "source": [
        "m[0:10]"
      ],
      "execution_count": null,
      "outputs": []
    },
    {
      "cell_type": "code",
      "metadata": {
        "id": "EA6raWqWLI3S"
      },
      "source": [
        "s[0:10]"
      ],
      "execution_count": null,
      "outputs": []
    },
    {
      "cell_type": "code",
      "metadata": {
        "id": "bC9AYdzULI3S"
      },
      "source": [
        "prob_outputs = {\n",
        "    \"pred\": prob_preds.flatten(),\n",
        "    \"actual_value\": test_data['MPG'].values,\n",
        "    \"pred_mean\": m.numpy().flatten(),\n",
        "    \"pred_std\": s.numpy().flatten()\n",
        "}\n",
        "prob_output_df = pd.DataFrame(prob_outputs)"
      ],
      "execution_count": null,
      "outputs": []
    },
    {
      "cell_type": "code",
      "metadata": {
        "id": "Qw0sWmaCLI3S"
      },
      "source": [
        "prob_output_df.head()"
      ],
      "execution_count": null,
      "outputs": []
    },
    {
      "cell_type": "code",
      "metadata": {
        "id": "16P_8xCrLI3S"
      },
      "source": [
        "a = plt.axes(aspect='equal')\n",
        "plt.scatter(test_labels, m.numpy().flatten())\n",
        "plt.xlabel('True Values [MPG]')\n",
        "plt.ylabel('Predictions [MPG]')\n",
        "lims = [0, 50]\n",
        "plt.xlim(lims)\n",
        "plt.ylim(lims)\n",
        "_ = plt.plot(lims, lims)\n"
      ],
      "execution_count": null,
      "outputs": []
    },
    {
      "cell_type": "markdown",
      "metadata": {
        "id": "tPnt4CrmLI3T"
      },
      "source": [
        "## 5. Model Interpretability with Shapley Values"
      ]
    },
    {
      "cell_type": "markdown",
      "metadata": {
        "id": "fsWwiP4tLI3T"
      },
      "source": [
        "- Using Open Source Library Shap - https://github.com/slundberg/shap\n",
        "- Developed by Su-In Lee's lab at the University of Washington, and Microsoft Research"
      ]
    },
    {
      "cell_type": "code",
      "metadata": {
        "id": "Dhu_gmA6LI3T"
      },
      "source": [
        "# adapted from https://github.com/kweinmeister/notebooks/blob/master/tensorflow-shap-college-debt.ipynb\n",
        "# https://towardsdatascience.com/understand-how-your-tensorflow-model-is-making-predictions-d0b3c7e88500"
      ],
      "execution_count": null,
      "outputs": []
    },
    {
      "cell_type": "code",
      "metadata": {
        "id": "4vglGk9aLI3T"
      },
      "source": [
        "import shap\n",
        "shap.initjs()"
      ],
      "execution_count": null,
      "outputs": []
    },
    {
      "cell_type": "markdown",
      "metadata": {
        "id": "1kBhbWOFLI3U"
      },
      "source": [
        "### Train Model without Dense Features"
      ]
    },
    {
      "cell_type": "code",
      "metadata": {
        "id": "3wfBgHu3LI3U"
      },
      "source": [
        "def build_shap_model( num_features):\n",
        "    model = tf.keras.Sequential([\n",
        "    tf.keras.layers.Dense(64, activation='relu', input_shape=[num_features]),\n",
        "    tf.keras.layers.Dense(64, activation='relu'),\n",
        "    tf.keras.layers.Dense(1)\n",
        "    ])\n",
        "\n",
        "    optimizer = tf.keras.optimizers.RMSprop(0.001)\n",
        "\n",
        "    model.compile(loss='mse',\n",
        "                optimizer=optimizer,\n",
        "                metrics=['mae', 'mse'])\n",
        "    return model"
      ],
      "execution_count": null,
      "outputs": []
    },
    {
      "cell_type": "code",
      "metadata": {
        "id": "SCmadZX1LI3U"
      },
      "source": [
        "shap_num_features = len( numerical_feature_list)\n",
        "shap_feature_columns =  tf_numerical_feature_list\n",
        "#shap_feature_layer = tf.keras.layers.DenseFeatures(shap_feature_columns)\n",
        "shap_model = build_shap_model( shap_num_features)"
      ],
      "execution_count": null,
      "outputs": []
    },
    {
      "cell_type": "code",
      "metadata": {
        "id": "HG0cEm5aLI3U"
      },
      "source": [
        "EPOCHS = 1000\n",
        "early_stop = tf.keras.callbacks.EarlyStopping(monitor='mse', patience=10)     \n",
        "shap_history = shap_model.fit( normed_train_data, train_labels,  callbacks=[early_stop], epochs=EPOCHS,  verbose=1)"
      ],
      "execution_count": null,
      "outputs": []
    },
    {
      "cell_type": "markdown",
      "metadata": {
        "id": "_C7BCfAdLI3U"
      },
      "source": [
        "### Use KMeans to Summarize Dataset"
      ]
    },
    {
      "cell_type": "code",
      "metadata": {
        "id": "kvlPG--pLI3U"
      },
      "source": [
        "df_train_normed_summary = shap.kmeans(normed_train_data.values, 25)\n"
      ],
      "execution_count": null,
      "outputs": []
    },
    {
      "cell_type": "code",
      "metadata": {
        "id": "W1vd9y_bLI3U"
      },
      "source": [
        "# Instantiate an explainer with the model predictions and training data summary\n",
        "explainer = shap.KernelExplainer(shap_model.predict, df_train_normed_summary)"
      ],
      "execution_count": null,
      "outputs": []
    },
    {
      "cell_type": "code",
      "metadata": {
        "id": "sDK_XxRiLI3V"
      },
      "source": [
        "# may need to install ipywidgets to see status visualization\n",
        "'''\n",
        "pip install ipywidgets\n",
        "jupyter nbextension enable --py widgetsnbextension\n",
        "'''"
      ],
      "execution_count": null,
      "outputs": []
    },
    {
      "cell_type": "code",
      "metadata": {
        "id": "YAYUBrNGLI3V"
      },
      "source": [
        "# Extract Shapley values from the explainer\n",
        "shap_values = explainer.shap_values(normed_train_data.values)"
      ],
      "execution_count": null,
      "outputs": []
    },
    {
      "cell_type": "code",
      "metadata": {
        "id": "ZQPWN7MsLI3V"
      },
      "source": [
        "# Summarize the Shapley values in a plot\n",
        "shap.summary_plot(shap_values[0], normed_train_data)"
      ],
      "execution_count": null,
      "outputs": []
    },
    {
      "cell_type": "code",
      "metadata": {
        "id": "0TSjLmloLI3V"
      },
      "source": [
        "INSTANCE_NUM = 0\n",
        "shap.force_plot(explainer.expected_value[0], shap_values[0][INSTANCE_NUM], normed_train_data.iloc[INSTANCE_NUM,:])"
      ],
      "execution_count": null,
      "outputs": []
    },
    {
      "cell_type": "code",
      "metadata": {
        "id": "Le9CEnJ7LI3V"
      },
      "source": [
        "# Plot the SHAP values for multiple instances\n",
        "NUM_ROWS = 10\n",
        "shap.force_plot(explainer.expected_value[0], shap_values[0][0:NUM_ROWS], normed_train_data.iloc[0:NUM_ROWS])"
      ],
      "execution_count": null,
      "outputs": []
    },
    {
      "cell_type": "code",
      "metadata": {
        "id": "FHgGyQC5LI3W"
      },
      "source": [
        ""
      ],
      "execution_count": null,
      "outputs": []
    }
  ]
}