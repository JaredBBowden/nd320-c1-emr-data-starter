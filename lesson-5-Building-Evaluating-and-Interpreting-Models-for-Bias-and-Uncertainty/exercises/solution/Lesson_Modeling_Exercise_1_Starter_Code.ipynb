{
  "nbformat": 4,
  "nbformat_minor": 0,
  "metadata": {
    "kernelspec": {
      "display_name": "Python 3",
      "language": "python",
      "name": "python3"
    },
    "language_info": {
      "codemirror_mode": {
        "name": "ipython",
        "version": 3
      },
      "file_extension": ".py",
      "mimetype": "text/x-python",
      "name": "python",
      "nbconvert_exporter": "python",
      "pygments_lexer": "ipython3",
      "version": "3.7.6"
    },
    "colab": {
      "name": "Lesson_Modeling_Exercise_1_Starter_Code.ipynb",
      "provenance": []
    },
    "accelerator": "GPU"
  },
  "cells": [
    {
      "cell_type": "markdown",
      "metadata": {
        "id": "_KlNh-MjsDpo"
      },
      "source": [
        "## L4 - 1: Regression Model with TF DenseFeatures"
      ]
    },
    {
      "cell_type": "markdown",
      "metadata": {
        "id": "MqayHX3PsDps"
      },
      "source": [
        "### Instructions\n",
        "- Build regression model to predict resting blood pressure (trestbps field in the dataset) using Tensorflow DenseFeatures\n",
        "- Please include the age and sex features and create a TF cross feature(https://www.tensorflow.org/api_docs/python/tf/feature_column/crossed_column) with them by binning the age field \n",
        "- Evaluate with common regression(MSE, MAE) and classification metrics(accuracy, F1, precision and recall across classes, AUC). No ROC or PR curve needed since this is a regression model that was converted to have a binary output and does not have the confidence in a given prediction."
      ]
    },
    {
      "cell_type": "code",
      "metadata": {
        "id": "V0F_CHapsDps"
      },
      "source": [
        "import pandas as pd\n",
        "import numpy as np\n",
        "import tensorflow as tf\n",
        "from sklearn.metrics import accuracy_score, f1_score, classification_report, roc_auc_score\n",
        "#from https://archive.ics.uci.edu/ml/datasets/Heart+Disease\n",
        "swiss_dataset_path = \"./data/heart_disease_data/processed_swiss.csv\"\n",
        "swiss_df = pd.read_csv(swiss_dataset_path).replace('?', np.nan)"
      ],
      "execution_count": null,
      "outputs": []
    },
    {
      "cell_type": "code",
      "metadata": {
        "id": "VEBM3DpVsDpt"
      },
      "source": [
        "column_list = ['age', 'sex', 'cp', 'trestbps', 'chol', 'fbs', 'restecg', 'thalach',\n",
        "       'exang', 'oldpeak', 'slope', 'ca', 'thal', 'num_label']"
      ],
      "execution_count": null,
      "outputs": []
    },
    {
      "cell_type": "code",
      "metadata": {
        "id": "kOyiZ1BmsDpt"
      },
      "source": [
        "cleveland_df = pd.read_csv(\"./data/heart_disease_data/processed.cleveland.txt\",  names=column_list).replace('?', np.nan)"
      ],
      "execution_count": null,
      "outputs": []
    },
    {
      "cell_type": "code",
      "metadata": {
        "id": "jjCCYxJAsDpt"
      },
      "source": [
        "combined_heart_df = pd.concat([swiss_df, cleveland_df])"
      ],
      "execution_count": null,
      "outputs": []
    },
    {
      "cell_type": "code",
      "metadata": {
        "id": "zhmKtAI5sDpu",
        "outputId": "dd02dd3e-fd78-4d0a-d97b-8d7872a66933"
      },
      "source": [
        "len(combined_heart_df)"
      ],
      "execution_count": null,
      "outputs": [
        {
          "output_type": "execute_result",
          "data": {
            "text/plain": [
              "426"
            ]
          },
          "metadata": {
            "tags": []
          },
          "execution_count": 5
        }
      ]
    },
    {
      "cell_type": "code",
      "metadata": {
        "id": "gpQ2qu-CsDpu",
        "outputId": "66d91f8e-81da-457a-d980-8a2cea5479b2"
      },
      "source": [
        "# Review the data\n",
        "combined_heart_df.head()"
      ],
      "execution_count": null,
      "outputs": [
        {
          "output_type": "execute_result",
          "data": {
            "text/html": [
              "<div>\n",
              "<style scoped>\n",
              "    .dataframe tbody tr th:only-of-type {\n",
              "        vertical-align: middle;\n",
              "    }\n",
              "\n",
              "    .dataframe tbody tr th {\n",
              "        vertical-align: top;\n",
              "    }\n",
              "\n",
              "    .dataframe thead th {\n",
              "        text-align: right;\n",
              "    }\n",
              "</style>\n",
              "<table border=\"1\" class=\"dataframe\">\n",
              "  <thead>\n",
              "    <tr style=\"text-align: right;\">\n",
              "      <th></th>\n",
              "      <th>age</th>\n",
              "      <th>sex</th>\n",
              "      <th>cp</th>\n",
              "      <th>trestbps</th>\n",
              "      <th>chol</th>\n",
              "      <th>fbs</th>\n",
              "      <th>restecg</th>\n",
              "      <th>thalach</th>\n",
              "      <th>exang</th>\n",
              "      <th>oldpeak</th>\n",
              "      <th>slope</th>\n",
              "      <th>ca</th>\n",
              "      <th>thal</th>\n",
              "      <th>num_label</th>\n",
              "    </tr>\n",
              "  </thead>\n",
              "  <tbody>\n",
              "    <tr>\n",
              "      <th>0</th>\n",
              "      <td>32.0</td>\n",
              "      <td>1.0</td>\n",
              "      <td>1.0</td>\n",
              "      <td>95</td>\n",
              "      <td>0.0</td>\n",
              "      <td>NaN</td>\n",
              "      <td>0</td>\n",
              "      <td>127</td>\n",
              "      <td>0</td>\n",
              "      <td>.7</td>\n",
              "      <td>1</td>\n",
              "      <td>NaN</td>\n",
              "      <td>NaN</td>\n",
              "      <td>1</td>\n",
              "    </tr>\n",
              "    <tr>\n",
              "      <th>1</th>\n",
              "      <td>34.0</td>\n",
              "      <td>1.0</td>\n",
              "      <td>4.0</td>\n",
              "      <td>115</td>\n",
              "      <td>0.0</td>\n",
              "      <td>NaN</td>\n",
              "      <td>NaN</td>\n",
              "      <td>154</td>\n",
              "      <td>0</td>\n",
              "      <td>.2</td>\n",
              "      <td>1</td>\n",
              "      <td>NaN</td>\n",
              "      <td>NaN</td>\n",
              "      <td>1</td>\n",
              "    </tr>\n",
              "    <tr>\n",
              "      <th>2</th>\n",
              "      <td>35.0</td>\n",
              "      <td>1.0</td>\n",
              "      <td>4.0</td>\n",
              "      <td>NaN</td>\n",
              "      <td>0.0</td>\n",
              "      <td>NaN</td>\n",
              "      <td>0</td>\n",
              "      <td>130</td>\n",
              "      <td>1</td>\n",
              "      <td>NaN</td>\n",
              "      <td>NaN</td>\n",
              "      <td>NaN</td>\n",
              "      <td>7</td>\n",
              "      <td>3</td>\n",
              "    </tr>\n",
              "    <tr>\n",
              "      <th>3</th>\n",
              "      <td>36.0</td>\n",
              "      <td>1.0</td>\n",
              "      <td>4.0</td>\n",
              "      <td>110</td>\n",
              "      <td>0.0</td>\n",
              "      <td>NaN</td>\n",
              "      <td>0</td>\n",
              "      <td>125</td>\n",
              "      <td>1</td>\n",
              "      <td>1</td>\n",
              "      <td>2</td>\n",
              "      <td>NaN</td>\n",
              "      <td>6</td>\n",
              "      <td>1</td>\n",
              "    </tr>\n",
              "    <tr>\n",
              "      <th>4</th>\n",
              "      <td>38.0</td>\n",
              "      <td>0.0</td>\n",
              "      <td>4.0</td>\n",
              "      <td>105</td>\n",
              "      <td>0.0</td>\n",
              "      <td>NaN</td>\n",
              "      <td>0</td>\n",
              "      <td>166</td>\n",
              "      <td>0</td>\n",
              "      <td>2.8</td>\n",
              "      <td>1</td>\n",
              "      <td>NaN</td>\n",
              "      <td>NaN</td>\n",
              "      <td>2</td>\n",
              "    </tr>\n",
              "  </tbody>\n",
              "</table>\n",
              "</div>"
            ],
            "text/plain": [
              "    age  sex   cp trestbps  chol  fbs restecg thalach exang oldpeak slope  \\\n",
              "0  32.0  1.0  1.0       95   0.0  NaN       0     127     0      .7     1   \n",
              "1  34.0  1.0  4.0      115   0.0  NaN     NaN     154     0      .2     1   \n",
              "2  35.0  1.0  4.0      NaN   0.0  NaN       0     130     1     NaN   NaN   \n",
              "3  36.0  1.0  4.0      110   0.0  NaN       0     125     1       1     2   \n",
              "4  38.0  0.0  4.0      105   0.0  NaN       0     166     0     2.8     1   \n",
              "\n",
              "    ca thal  num_label  \n",
              "0  NaN  NaN          1  \n",
              "1  NaN  NaN          1  \n",
              "2  NaN    7          3  \n",
              "3  NaN    6          1  \n",
              "4  NaN  NaN          2  "
            ]
          },
          "metadata": {
            "tags": []
          },
          "execution_count": 6
        }
      ]
    },
    {
      "cell_type": "code",
      "metadata": {
        "id": "gI51l0NksDpv",
        "outputId": "b399134b-62d2-44a1-c25a-e06cc499fcae"
      },
      "source": [
        "# It would appear that we have some na values to deal with\n",
        "combined_heart_df.isna().sum()"
      ],
      "execution_count": null,
      "outputs": [
        {
          "output_type": "execute_result",
          "data": {
            "text/plain": [
              "age            0\n",
              "sex            0\n",
              "cp             0\n",
              "trestbps       2\n",
              "chol           0\n",
              "fbs           75\n",
              "restecg        1\n",
              "thalach        1\n",
              "exang          1\n",
              "oldpeak        6\n",
              "slope         17\n",
              "ca           122\n",
              "thal          54\n",
              "num_label      0\n",
              "dtype: int64"
            ]
          },
          "metadata": {
            "tags": []
          },
          "execution_count": 7
        }
      ]
    },
    {
      "cell_type": "code",
      "metadata": {
        "id": "QpPPsHrOsDpv"
      },
      "source": [
        "# Based on the solution, it would appear that we're only trainin on specific features.\n",
        "# Subset?\n",
        "combined_heart_df = combined_heart_df[['sex',  'age', 'trestbps', 'thalach']]"
      ],
      "execution_count": null,
      "outputs": []
    },
    {
      "cell_type": "code",
      "metadata": {
        "id": "0TIO_GQysDpv",
        "outputId": "1e2cf0a1-0f7c-4df7-c22f-a55e5077006b"
      },
      "source": [
        "# The simple method is just to drop em'. Based on what I see here, this might be \n",
        "# severe...\n",
        "print(combined_heart_df.shape)\n",
        "clean_df = combined_heart_df.dropna()\n",
        "print(clean_df.shape)"
      ],
      "execution_count": null,
      "outputs": [
        {
          "output_type": "stream",
          "text": [
            "(426, 4)\n",
            "(424, 4)\n"
          ],
          "name": "stdout"
        }
      ]
    },
    {
      "cell_type": "code",
      "metadata": {
        "id": "oPsqtaXasDpv",
        "outputId": "16bad8aa-0da5-45fa-94a9-4b7cd56f7fe9"
      },
      "source": [
        "clean_df.dtypes"
      ],
      "execution_count": null,
      "outputs": [
        {
          "output_type": "execute_result",
          "data": {
            "text/plain": [
              "sex         float64\n",
              "age         float64\n",
              "trestbps     object\n",
              "thalach      object\n",
              "dtype: object"
            ]
          },
          "metadata": {
            "tags": []
          },
          "execution_count": 10
        }
      ]
    },
    {
      "cell_type": "code",
      "metadata": {
        "id": "i1yq7EfMsDpw",
        "outputId": "4cacdaca-8e64-4afc-e41f-335aae98ad18"
      },
      "source": [
        "# Skipping ahead, it looks as though we're being encouraged to recast sex as a string\n",
        "clean_df[\"sex\"] = np.where(clean_df[\"sex\"] == 1, \"male\", \"female\")"
      ],
      "execution_count": null,
      "outputs": [
        {
          "output_type": "stream",
          "text": [
            "/opt/conda/lib/python3.7/site-packages/ipykernel_launcher.py:2: SettingWithCopyWarning: \n",
            "A value is trying to be set on a copy of a slice from a DataFrame.\n",
            "Try using .loc[row_indexer,col_indexer] = value instead\n",
            "\n",
            "See the caveats in the documentation: https://pandas.pydata.org/pandas-docs/stable/user_guide/indexing.html#returning-a-view-versus-a-copy\n",
            "  \n"
          ],
          "name": "stderr"
        }
      ]
    },
    {
      "cell_type": "code",
      "metadata": {
        "id": "FebeoBdosDpw",
        "outputId": "ba1dac98-93da-4941-8c2e-ccc95eed6bc5"
      },
      "source": [
        "clean_df.head()"
      ],
      "execution_count": null,
      "outputs": [
        {
          "output_type": "execute_result",
          "data": {
            "text/html": [
              "<div>\n",
              "<style scoped>\n",
              "    .dataframe tbody tr th:only-of-type {\n",
              "        vertical-align: middle;\n",
              "    }\n",
              "\n",
              "    .dataframe tbody tr th {\n",
              "        vertical-align: top;\n",
              "    }\n",
              "\n",
              "    .dataframe thead th {\n",
              "        text-align: right;\n",
              "    }\n",
              "</style>\n",
              "<table border=\"1\" class=\"dataframe\">\n",
              "  <thead>\n",
              "    <tr style=\"text-align: right;\">\n",
              "      <th></th>\n",
              "      <th>sex</th>\n",
              "      <th>age</th>\n",
              "      <th>trestbps</th>\n",
              "      <th>thalach</th>\n",
              "    </tr>\n",
              "  </thead>\n",
              "  <tbody>\n",
              "    <tr>\n",
              "      <th>0</th>\n",
              "      <td>male</td>\n",
              "      <td>32.0</td>\n",
              "      <td>95</td>\n",
              "      <td>127</td>\n",
              "    </tr>\n",
              "    <tr>\n",
              "      <th>1</th>\n",
              "      <td>male</td>\n",
              "      <td>34.0</td>\n",
              "      <td>115</td>\n",
              "      <td>154</td>\n",
              "    </tr>\n",
              "    <tr>\n",
              "      <th>3</th>\n",
              "      <td>male</td>\n",
              "      <td>36.0</td>\n",
              "      <td>110</td>\n",
              "      <td>125</td>\n",
              "    </tr>\n",
              "    <tr>\n",
              "      <th>4</th>\n",
              "      <td>female</td>\n",
              "      <td>38.0</td>\n",
              "      <td>105</td>\n",
              "      <td>166</td>\n",
              "    </tr>\n",
              "    <tr>\n",
              "      <th>5</th>\n",
              "      <td>female</td>\n",
              "      <td>38.0</td>\n",
              "      <td>110</td>\n",
              "      <td>156</td>\n",
              "    </tr>\n",
              "  </tbody>\n",
              "</table>\n",
              "</div>"
            ],
            "text/plain": [
              "      sex   age trestbps thalach\n",
              "0    male  32.0       95     127\n",
              "1    male  34.0      115     154\n",
              "3    male  36.0      110     125\n",
              "4  female  38.0      105     166\n",
              "5  female  38.0      110     156"
            ]
          },
          "metadata": {
            "tags": []
          },
          "execution_count": 12
        }
      ]
    },
    {
      "cell_type": "code",
      "metadata": {
        "id": "iWYxa03isDpw",
        "outputId": "ea717dc3-e1d8-4a2f-dd36-2d43fa82ce66"
      },
      "source": [
        "# It's unclear to my why some of these features are reading as object. So, recast\n",
        "clean_df['trestbps'] = clean_df['trestbps'].astype(\"float\")\n",
        "clean_df['thalach'] = clean_df['thalach'].astype(\"float\")\n",
        "\n",
        "clean_df.dtypes"
      ],
      "execution_count": null,
      "outputs": [
        {
          "output_type": "stream",
          "text": [
            "/opt/conda/lib/python3.7/site-packages/ipykernel_launcher.py:2: SettingWithCopyWarning: \n",
            "A value is trying to be set on a copy of a slice from a DataFrame.\n",
            "Try using .loc[row_indexer,col_indexer] = value instead\n",
            "\n",
            "See the caveats in the documentation: https://pandas.pydata.org/pandas-docs/stable/user_guide/indexing.html#returning-a-view-versus-a-copy\n",
            "  \n",
            "/opt/conda/lib/python3.7/site-packages/ipykernel_launcher.py:3: SettingWithCopyWarning: \n",
            "A value is trying to be set on a copy of a slice from a DataFrame.\n",
            "Try using .loc[row_indexer,col_indexer] = value instead\n",
            "\n",
            "See the caveats in the documentation: https://pandas.pydata.org/pandas-docs/stable/user_guide/indexing.html#returning-a-view-versus-a-copy\n",
            "  This is separate from the ipykernel package so we can avoid doing imports until\n"
          ],
          "name": "stderr"
        },
        {
          "output_type": "execute_result",
          "data": {
            "text/plain": [
              "sex          object\n",
              "age         float64\n",
              "trestbps    float64\n",
              "thalach     float64\n",
              "dtype: object"
            ]
          },
          "metadata": {
            "tags": []
          },
          "execution_count": 13
        }
      ]
    },
    {
      "cell_type": "code",
      "metadata": {
        "id": "DDgVHt5ysDpw"
      },
      "source": [
        "# Define the train and test groups\n",
        "training_data = clean_df.sample(frac=0.8)\n",
        "test_data = clean_df.drop(training_data.index)"
      ],
      "execution_count": null,
      "outputs": []
    },
    {
      "cell_type": "code",
      "metadata": {
        "id": "MttiTpVxsDpx"
      },
      "source": [
        "#adapted from https://www.tensorflow.org/tutorials/structured_data/feature_columns\n",
        "def df_to_dataset(df, predictor,  batch_size=32):\n",
        "    df = df.copy()\n",
        "    labels = df.pop(predictor)\n",
        "    ds = tf.data.Dataset.from_tensor_slices((dict(df), labels))\n",
        "    ds = ds.shuffle(buffer_size=len(df))\n",
        "    ds = ds.batch(batch_size)\n",
        "    return ds"
      ],
      "execution_count": null,
      "outputs": []
    },
    {
      "cell_type": "code",
      "metadata": {
        "id": "NlQB4SbUsDpx"
      },
      "source": [
        "# Convert to tensors\n",
        "PREDICTOR_FIELD = 'trestbps'\n",
        "batch_size = 128\n",
        "train_ds = df_to_dataset(training_data, PREDICTOR_FIELD, batch_size=batch_size)\n",
        "test_ds = df_to_dataset(test_data, PREDICTOR_FIELD, batch_size=batch_size)"
      ],
      "execution_count": null,
      "outputs": []
    },
    {
      "cell_type": "code",
      "metadata": {
        "id": "DJBtRUkusDpx"
      },
      "source": [
        "# Preprocess numerical features -- there is only one\n",
        "tf_numeric_age_feature = tf.feature_column.numeric_column(key=\"age\", \n",
        "                                                          default_value=0,\n",
        "                                                         dtype=tf.float64)"
      ],
      "execution_count": null,
      "outputs": []
    },
    {
      "cell_type": "code",
      "metadata": {
        "id": "708bomdJsDpx"
      },
      "source": [
        "# Based on what I'm seeing, they want us to bucket age, too?\n",
        "b_list = [ 0, 18, 25, 40, 55, 65, 80, 100]\n",
        "#create TF bucket feature from numeric feature\n",
        "tf_numeric_age_feature\n",
        "tf_bucket_age_feature = tf.feature_column.bucketized_column(source_column=tf_numeric_age_feature, boundaries= b_list)"
      ],
      "execution_count": null,
      "outputs": []
    },
    {
      "cell_type": "code",
      "metadata": {
        "id": "1KspxfLusDpx"
      },
      "source": [
        "# And then one-hot encode the gender column... Which, given cardinality, doesn't really \n",
        "# require a vocab.\n",
        "\n",
        "# Here, save in memory as oppose to writtin to file\n",
        "\n",
        "# I think it's also relevant to mention here that we're running this on the WHOLE file,\n",
        "# not just the splits\n",
        "gender_vocab = tf.feature_column.categorical_column_with_vocabulary_list(\n",
        "      'sex', clean_df['sex'].unique())\n",
        "gender_one_hot = tf.feature_column.indicator_column(gender_vocab)"
      ],
      "execution_count": null,
      "outputs": []
    },
    {
      "cell_type": "code",
      "metadata": {
        "id": "tTwqY1OZsDpy",
        "outputId": "bc3380ed-5720-49e4-8301-4316cf16c9e6"
      },
      "source": [
        "# Now, this is new: cross features...\n",
        "# More here: https://www.tensorflow.org/api_docs/python/tf/feature_column/crossed_column\n",
        "\n",
        "# A way to combine categorical features? Here, we combine the age and the gender features.\n",
        "crossed_age_gender_feature = tf.feature_column.crossed_column([tf_bucket_age_feature, gender_vocab], hash_bucket_size=1000)\n",
        "tf_crossed_age_gender_feature = tf.feature_column.indicator_column(crossed_age_gender_feature)"
      ],
      "execution_count": null,
      "outputs": [
        {
          "output_type": "error",
          "ename": "NameError",
          "evalue": "name 'tf' is not defined",
          "traceback": [
            "\u001b[0;31m---------------------------------------------------------------------------\u001b[0m",
            "\u001b[0;31mNameError\u001b[0m                                 Traceback (most recent call last)",
            "\u001b[0;32m<ipython-input-2-7a47d0146b9e>\u001b[0m in \u001b[0;36m<module>\u001b[0;34m\u001b[0m\n\u001b[1;32m      1\u001b[0m \u001b[0;31m# Now, this is new: cross features...\u001b[0m\u001b[0;34m\u001b[0m\u001b[0;34m\u001b[0m\u001b[0;34m\u001b[0m\u001b[0m\n\u001b[0;32m----> 2\u001b[0;31m \u001b[0mcrossed_age_gender_feature\u001b[0m \u001b[0;34m=\u001b[0m \u001b[0mtf\u001b[0m\u001b[0;34m.\u001b[0m\u001b[0mfeature_column\u001b[0m\u001b[0;34m.\u001b[0m\u001b[0mcrossed_column\u001b[0m\u001b[0;34m(\u001b[0m\u001b[0;34m[\u001b[0m\u001b[0mtf_bucket_age_feature\u001b[0m\u001b[0;34m,\u001b[0m \u001b[0mgender_vocab\u001b[0m\u001b[0;34m]\u001b[0m\u001b[0;34m,\u001b[0m \u001b[0mhash_bucket_size\u001b[0m\u001b[0;34m=\u001b[0m\u001b[0;36m1000\u001b[0m\u001b[0;34m)\u001b[0m\u001b[0;34m\u001b[0m\u001b[0;34m\u001b[0m\u001b[0m\n\u001b[0m\u001b[1;32m      3\u001b[0m \u001b[0mtf_crossed_age_gender_feature\u001b[0m \u001b[0;34m=\u001b[0m \u001b[0mtf\u001b[0m\u001b[0;34m.\u001b[0m\u001b[0mfeature_column\u001b[0m\u001b[0;34m.\u001b[0m\u001b[0mindicator_column\u001b[0m\u001b[0;34m(\u001b[0m\u001b[0mcrossed_age_gender_feature\u001b[0m\u001b[0;34m)\u001b[0m\u001b[0;34m\u001b[0m\u001b[0;34m\u001b[0m\u001b[0m\n",
            "\u001b[0;31mNameError\u001b[0m: name 'tf' is not defined"
          ]
        }
      ]
    },
    {
      "cell_type": "code",
      "metadata": {
        "id": "C8sNRLYlsDpy"
      },
      "source": [
        "feature_columns = [ tf_crossed_age_gender_feature, tf_bucket_age_feature, gender_one_hot ]\n",
        "\n",
        "# Create the densefeatures layer\n",
        "dense_feature_layer = tf.keras.layers.DenseFeatures(feature_columns)"
      ],
      "execution_count": null,
      "outputs": []
    },
    {
      "cell_type": "code",
      "metadata": {
        "id": "wBTqDb8IsDpy"
      },
      "source": [
        "# Use same architecture as example\n",
        "def build_model(dense_feature_layer):\n",
        "  model = tf.keras.Sequential([\n",
        "    dense_feature_layer,\n",
        "    tf.keras.layers.Dense(64, activation='relu'),\n",
        "    tf.keras.layers.Dense(64, activation='relu'),\n",
        "    tf.keras.layers.Dense(1)\n",
        "  ])\n",
        "\n",
        "  optimizer = tf.keras.optimizers.RMSprop(0.001)\n",
        "\n",
        "  model.compile(loss='mse',\n",
        "                optimizer=optimizer,\n",
        "                metrics=['mae', 'mse'])\n",
        "  return model"
      ],
      "execution_count": null,
      "outputs": []
    },
    {
      "cell_type": "code",
      "metadata": {
        "id": "KTh5NnKKsDpy",
        "outputId": "63a6b9d3-9300-48d2-9191-aba56467f825"
      },
      "source": [
        "# Build the model\n",
        "model = build_model(dense_feature_layer)\n",
        "\n",
        "# Train\n",
        "# No validation set b/c need to build separate TF dataset\n",
        "EPOCHS = 2000\n",
        "# Set to patience to 100 so it trains to end of epochs\n",
        "early_stop = tf.keras.callbacks.EarlyStopping(monitor='mse', patience=10)     \n",
        "history = model.fit(train_ds,   callbacks=[early_stop], epochs=EPOCHS,  verbose=1)"
      ],
      "execution_count": null,
      "outputs": [
        {
          "output_type": "error",
          "ename": "NameError",
          "evalue": "name 'dense_feature_layer' is not defined",
          "traceback": [
            "\u001b[0;31m---------------------------------------------------------------------------\u001b[0m",
            "\u001b[0;31mNameError\u001b[0m                                 Traceback (most recent call last)",
            "\u001b[0;32m<ipython-input-17-196c612098a3>\u001b[0m in \u001b[0;36m<module>\u001b[0;34m\u001b[0m\n\u001b[1;32m      1\u001b[0m \u001b[0;31m# Build the model\u001b[0m\u001b[0;34m\u001b[0m\u001b[0;34m\u001b[0m\u001b[0;34m\u001b[0m\u001b[0m\n\u001b[0;32m----> 2\u001b[0;31m \u001b[0mmodel\u001b[0m \u001b[0;34m=\u001b[0m \u001b[0mbuild_model\u001b[0m\u001b[0;34m(\u001b[0m\u001b[0mdense_feature_layer\u001b[0m\u001b[0;34m)\u001b[0m\u001b[0;34m\u001b[0m\u001b[0;34m\u001b[0m\u001b[0m\n\u001b[0m\u001b[1;32m      3\u001b[0m \u001b[0;34m\u001b[0m\u001b[0m\n\u001b[1;32m      4\u001b[0m \u001b[0;31m# Train\u001b[0m\u001b[0;34m\u001b[0m\u001b[0;34m\u001b[0m\u001b[0;34m\u001b[0m\u001b[0m\n\u001b[1;32m      5\u001b[0m \u001b[0;31m# No validation set b/c need to build separate TF dataset\u001b[0m\u001b[0;34m\u001b[0m\u001b[0;34m\u001b[0m\u001b[0;34m\u001b[0m\u001b[0m\n",
            "\u001b[0;31mNameError\u001b[0m: name 'dense_feature_layer' is not defined"
          ]
        }
      ]
    },
    {
      "cell_type": "code",
      "metadata": {
        "id": "x1AzI4_EsDpy"
      },
      "source": [
        "loss, mae, mse = model.evaluate(test_ds, verbose=2)\n",
        "print(\"MAE:{}\\nMSE:{}\".format(mae, mse))"
      ],
      "execution_count": null,
      "outputs": []
    },
    {
      "cell_type": "code",
      "metadata": {
        "id": "hNSJbew0sDpz"
      },
      "source": [
        "test_labels = test_dataset[PREDICTOR_FIELD].values\n",
        "test_predictions = model.predict(test_ds).flatten()"
      ],
      "execution_count": null,
      "outputs": []
    },
    {
      "cell_type": "code",
      "metadata": {
        "id": "yYw9QzwBuE8X"
      },
      "source": [
        "model_pred_outputs = {\n",
        "    \"pred\": test_predictions,\n",
        "    \"actual_value\": test_labels,\n",
        "}\n",
        "model_output_df = pd.DataFrame(model_pred_output"
      ],
      "execution_count": null,
      "outputs": []
    },
    {
      "cell_type": "code",
      "metadata": {
        "id": "t_hZSgtTuGW_"
      },
      "source": [
        "# Convert Regression Output to binary classification output\n",
        "model_output_df.tail()"
      ],
      "execution_count": null,
      "outputs": []
    },
    {
      "cell_type": "code",
      "metadata": {
        "id": "QAQlSUxiuHzy"
      },
      "source": [
        "#convert to binary prediction for Brier score - resting bps above 130 \n",
        "def convert_to_binary(df, pred_field, actual_field):\n",
        "    # score is the field name we will use for predictions and is what Aequitas uses\n",
        "    df['score'] = df[pred_field].apply(lambda x: 1 if x>=130 else 0 )\n",
        "    # label_value is the field name we will use for the truth value and is what Aequitas uses\n",
        "    df['label_value'] = df[actual_field].apply(lambda x: 1 if x>=130 else 0)\n",
        "    return df"
      ],
      "execution_count": null,
      "outputs": []
    },
    {
      "cell_type": "code",
      "metadata": {
        "id": "RDPLhQ7-uKFb"
      },
      "source": [
        "binary_df = convert_to_binary(model_output_df, 'pred', 'actual_value')\n",
        "binary_df.head()"
      ],
      "execution_count": null,
      "outputs": []
    },
    {
      "cell_type": "code",
      "metadata": {
        "id": "r3Aa8fbwuLX8"
      },
      "source": [
        "from sklearn.metrics import accuracy_score, f1_score, classification_report, roc_auc_score"
      ],
      "execution_count": null,
      "outputs": []
    },
    {
      "cell_type": "code",
      "metadata": {
        "id": "rgTyr2druM_-"
      },
      "source": [
        "y_true = binary_df['label_value'].values \n",
        "y_pred = binary_df['score'].values"
      ],
      "execution_count": null,
      "outputs": []
    },
    {
      "cell_type": "code",
      "metadata": {
        "id": "FVvdtxd4uOZn"
      },
      "source": [
        "accuracy_score(y_true, y_pred)"
      ],
      "execution_count": null,
      "outputs": []
    },
    {
      "cell_type": "code",
      "metadata": {
        "id": "xoFOdikfuP_Y"
      },
      "source": [
        "print(classification_report(y_true, y_pred))"
      ],
      "execution_count": null,
      "outputs": []
    },
    {
      "cell_type": "code",
      "metadata": {
        "id": "c9tWSnM5uQo2"
      },
      "source": [
        "roc_auc_score(y_true, y_pred)"
      ],
      "execution_count": null,
      "outputs": []
    }
  ]
}